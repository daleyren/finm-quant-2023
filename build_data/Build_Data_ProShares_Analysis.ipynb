{
 "cells": [
  {
   "cell_type": "markdown",
   "metadata": {},
   "source": [
    "# Required: Active Bloomberg Connection\n",
    "\n",
    "### Additionally, this notebook uses a custom Bloomberg API wrapper imported as bbapi\n",
    "Using the standard Bloomberg API directly will require some modifications."
   ]
  },
  {
   "cell_type": "code",
   "execution_count": 1,
   "metadata": {},
   "outputs": [],
   "source": [
    "import numpy as np\n",
    "import pandas as pd\n",
    "from xbbg import blp\n",
    "\n",
    "#import arch\n",
    "#import statsmodels.api as sm\n",
    "#import os, sys\n",
    "#import pytz\n",
    "#from datetime import datetime, timedelta"
   ]
  },
  {
   "cell_type": "code",
   "execution_count": 2,
   "metadata": {},
   "outputs": [],
   "source": [
    "file_out = 'proshares_analysis_data.xlsx'\n",
    "\n",
    "ticks_hedge = [\n",
    "    'HFRIFWI Index',\n",
    "    'MLEIFCTR Index',\n",
    "    'MLEIFCTX Index',\n",
    "    'HDG US Equity',\n",
    "    'QAI US Equity',\n",
    "]\n",
    "\n",
    "ticks_merrill = [\n",
    "    'SPY US Equity',\n",
    "    'USGG3M Index',\n",
    "    'EEM US Equity',\n",
    "    'EFA US Equity',\n",
    "    'EUO US Equity',\n",
    "    'IWM US Equity'\n",
    "]\n",
    "\n",
    "ticks_explore = [\n",
    "    'TRVCI Index',\n",
    "    'HEFA US Equity',\n",
    "    'TAIL US Equity',\n",
    "    'SPXU US Equity',\n",
    "    'UPRO US Equity',\n",
    "]\n",
    "\n",
    "ticks = list(set(ticks_hedge + ticks_merrill + ticks_explore))\n",
    "\n",
    "ticks_secs = []\n",
    "ticks_indexes = []\n",
    "for tick in ticks:\n",
    "    if 'Equity' in tick:\n",
    "        ticks_secs.append(tick)\n",
    "    if 'Index' in tick:\n",
    "        ticks_indexes.append(tick)\n",
    "\n",
    "ticks_yields = 'USGG3M Index'"
   ]
  },
  {
   "cell_type": "code",
   "execution_count": 3,
   "metadata": {},
   "outputs": [],
   "source": [
    "info = blp.bdp(ticks, 'Name').rename(columns={'name':'Descriptions'})"
   ]
  },
  {
   "cell_type": "code",
   "execution_count": 4,
   "metadata": {},
   "outputs": [],
   "source": [
    "fld_secs = 'TOT_RETURN_INDEX_GROSS_DVDS'\n",
    "fld_indexes = 'PX_LAST'\n",
    "\n",
    "date_start = '20110701'\n",
    "date_end = '20230531'\n",
    "\n",
    "ANNUALIZATION = 12"
   ]
  },
  {
   "cell_type": "code",
   "execution_count": 5,
   "metadata": {},
   "outputs": [],
   "source": [
    "securities = blp.bdh(ticks_secs,fld_secs,date_start,date_end).droplevel(level=1,axis=1)\n",
    "securities.index = pd.to_datetime(securities.index)\n",
    "\n",
    "indexes = blp.bdh(ticks_indexes,fld_indexes,date_start,date_end).droplevel(level=1,axis=1)\n",
    "indexes.index = pd.to_datetime(indexes.index)"
   ]
  },
  {
   "cell_type": "code",
   "execution_count": 6,
   "metadata": {},
   "outputs": [],
   "source": [
    "data_daily = securities.join(indexes,how='outer')\n",
    "data_monthly = data_daily.ffill().resample('m').last()\n",
    "rets = data_monthly.pct_change()\n",
    "rets[ticks_yields] = data_monthly[ticks_yields]/100/ANNUALIZATION\n",
    "rets = rets.iloc[1:]\n",
    "rets.index = rets.index.tz_localize(None)"
   ]
  },
  {
   "cell_type": "code",
   "execution_count": 7,
   "metadata": {},
   "outputs": [],
   "source": [
    "with pd.ExcelWriter(file_out) as writer:\n",
    "    info.to_excel(writer, sheet_name= 'descriptions')\n",
    "    rets[ticks_hedge].to_excel(writer, sheet_name='hedge_fund_series')\n",
    "    rets[ticks_merrill].to_excel(writer, sheet_name='merrill_factors')\n",
    "    rets[ticks_explore].to_excel(writer, sheet_name='other_data')"
   ]
  }
 ],
 "metadata": {
  "hide_input": false,
  "kernelspec": {
   "display_name": "Python 3 (ipykernel)",
   "language": "python",
   "name": "python3"
  },
  "language_info": {
   "codemirror_mode": {
    "name": "ipython",
    "version": 3
   },
   "file_extension": ".py",
   "mimetype": "text/x-python",
   "name": "python",
   "nbconvert_exporter": "python",
   "pygments_lexer": "ipython3",
   "version": "3.10.10"
  }
 },
 "nbformat": 4,
 "nbformat_minor": 4
}
