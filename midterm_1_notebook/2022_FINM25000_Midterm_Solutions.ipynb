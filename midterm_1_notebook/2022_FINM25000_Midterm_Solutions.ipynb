{
 "cells": [
  {
   "cell_type": "markdown",
   "id": "c16cc064",
   "metadata": {},
   "source": [
    "# FINM 25000 - Quantitative Portfolio Management and Algorithmic Trading\n",
    "\n",
    "## Mid Term Solutions"
   ]
  },
  {
   "cell_type": "code",
   "execution_count": 5,
   "id": "c6190ba9",
   "metadata": {},
   "outputs": [],
   "source": [
    "# Start by importing the packages and datasets\n",
    "\n",
    "import pandas as pd\n",
    "pd.options.display.float_format = '{:.2f}'.format\n",
    "import numpy as np\n",
    "import seaborn as sns\n",
    "import matplotlib.pyplot as plt\n",
    "import statsmodels.api as sm\n",
    "from sklearn.linear_model import LinearRegression\n",
    "from sklearn.metrics import r2_score\n",
    "\n",
    "def performanceMetrics(returns,annualization=1, quantile=.05):\n",
    "    metrics = pd.DataFrame(index=returns.columns)\n",
    "    metrics['Mean'] = returns.mean() * annualization\n",
    "    metrics['Vol'] = returns.std() * np.sqrt(annualization)\n",
    "    metrics['Sharpe'] = (returns.mean() / returns.std()) * np.sqrt(annualization)\n",
    "\n",
    "    metrics['Min'] = returns.min()\n",
    "    metrics['Max'] = returns.max()\n",
    "    return metrics\n",
    "\n",
    "def tailMetrics(returns, quantile=.05, relative=False, mdd=True):\n",
    "    \n",
    "    #Maximum Drawdown\n",
    "    def maximumDrawdown(returns):\n",
    "        cum_returns = (1 + returns).cumprod()\n",
    "        rolling_max = cum_returns.cummax()\n",
    "        drawdown = (cum_returns - rolling_max) / rolling_max\n",
    "\n",
    "        max_drawdown = drawdown.min()\n",
    "        end_date = drawdown.idxmin()\n",
    "        summary = pd.DataFrame({'Max Drawdown': max_drawdown, 'Bottom': end_date})\n",
    "\n",
    "        for col in drawdown:\n",
    "            summary.loc[col,'Peak'] = (rolling_max.loc[:end_date[col],col]).idxmax()\n",
    "            recovery = (drawdown.loc[end_date[col]:,col])\n",
    "            try:\n",
    "                summary.loc[col,'Recover'] = pd.to_datetime(recovery[recovery >= 0].index[0])\n",
    "            except:\n",
    "                summary.loc[col,'Recover'] = pd.to_datetime(None)\n",
    "\n",
    "            summary['Peak'] = pd.to_datetime(summary['Peak'])\n",
    "            try:\n",
    "                summary['Duration (to Recover)'] = (summary['Recover'] - summary['Peak'])\n",
    "            except:\n",
    "                summary['Duration (to Recover)'] = None\n",
    "\n",
    "            summary = summary[['Max Drawdown','Peak','Bottom','Recover','Duration (to Recover)']]\n",
    "\n",
    "        return summary  \n",
    "    \n",
    "    metrics = pd.DataFrame(index=returns.columns)\n",
    "    metrics['Skewness'] = returns.skew()\n",
    "    metrics['Kurtosis'] = returns.kurtosis()\n",
    "\n",
    "    VaR = returns.quantile(quantile)\n",
    "    CVaR = (returns[returns < returns.quantile(quantile)]).mean()\n",
    "\n",
    "    if relative:\n",
    "        VaR = (VaR - returns.mean())/returns.std()\n",
    "        CVaR = (CVaR - returns.mean())/returns.std()\n",
    "\n",
    "    metrics[f'VaR ({quantile})'] = VaR\n",
    "    metrics[f'CVaR ({quantile})'] = CVaR\n",
    "\n",
    "    if mdd:\n",
    "        mdd_stats = maximumDrawdown(returns)\n",
    "        metrics = metrics.join(mdd_stats)\n",
    "\n",
    "        if relative:\n",
    "            metrics['Max Drawdown'] = (metrics['Max Drawdown'] - returns.mean())/returns.std()\n",
    "\n",
    "    return metrics\n",
    "\n",
    "\n",
    "def get_ols_metrics(regressors, targets, annualization=1, ignorenan=True):\n",
    "    # ensure regressors and targets are pandas dataframes, as expected\n",
    "    if not isinstance(regressors, pd.DataFrame):\n",
    "        regressors = regressors.to_frame()\n",
    "    if not isinstance(targets, pd.DataFrame):\n",
    "        targets = targets.to_frame()\n",
    "\n",
    "    # align the targets and regressors on the same dates\n",
    "    df_aligned = targets.join(regressors, how='inner', lsuffix='y ')\n",
    "    Y = df_aligned[targets.columns]\n",
    "    Xset = df_aligned[regressors.columns]\n",
    "\n",
    "    reg = pd.DataFrame(index=targets.columns)\n",
    "    for col in Y.columns:\n",
    "        y = Y[col]\n",
    "        \n",
    "        if ignorenan:\n",
    "            # ensure we use only non-NaN dates\n",
    "            alldata = Xset.join(y,lsuffix='X')\n",
    "            mask = alldata.notnull().all(axis=1)\n",
    "            y = y[mask]\n",
    "            X = Xset[mask]\n",
    "        else:\n",
    "            X = Xset\n",
    "\n",
    "        model = LinearRegression().fit(X, y)\n",
    "        reg.loc[col, 'alpha'] = model.intercept_ * annualization\n",
    "        reg.loc[col, regressors.columns] = model.coef_\n",
    "        reg.loc[col, 'r-squared'] = model.score(X, y)\n",
    "\n",
    "        # sklearn does not return the residuals, so we need to build them\n",
    "        yfit = model.predict(X)\n",
    "        residuals = y - yfit\n",
    "\n",
    "        # Treynor Ratio is only defined for univariate regression\n",
    "        if Xset.shape[1] == 1:\n",
    "            reg.loc[col,'Treynor Ratio'] = (y.mean() / model.coef_) * annualization\n",
    "\n",
    "        \n",
    "        # if intercept =0, numerical roundoff will nonetheless show nonzero Info Ratio\n",
    "        num_roundoff = 1e-12\n",
    "        if np.abs(model.intercept_) < num_roundoff:\n",
    "            reg.loc[col, 'Info Ratio'] = None\n",
    "        else:\n",
    "            reg.loc[col, 'Info Ratio'] = (model.intercept_ / residuals.std()) * np.sqrt(annualization)\n",
    "\n",
    "    return reg\n",
    "\n",
    "def tangency_portfolio(data):\n",
    "    mu = data.mean()\n",
    "    sigma = np.linalg.inv(data.cov())\n",
    "    one_vector = np.ones(len(data.columns))\n",
    "    return sigma @ mu / (one_vector @ sigma @ mu)\n",
    "\n",
    "def tangency_portfolio_allocation(data, target_return = 0.01):\n",
    "    mu = data.mean()\n",
    "    sigma = np.linalg.inv(data.cov())\n",
    "    one_vector = np.ones(len(data.columns))\n",
    "    tan_wts = tangency_portfolio(data)\n",
    "    return ((one_vector @ sigma @ mu) / (mu @ sigma @ mu)) * target_return "
   ]
  },
  {
   "cell_type": "code",
   "execution_count": 8,
   "id": "b47e8b23",
   "metadata": {},
   "outputs": [],
   "source": [
    "factors = pd.read_excel('midterm_A_data-1.xlsx', 0).set_index('Date')\n",
    "assets = pd.read_excel('midterm_A_data-1.xlsx', 1).set_index('Date')\n",
    "risk_free = pd.read_excel('midterm_A_data-1.xlsx', 2).set_index('Date')"
   ]
  },
  {
   "cell_type": "markdown",
   "id": "6a273344",
   "metadata": {},
   "source": [
    "# 1 Return Analysis"
   ]
  },
  {
   "cell_type": "markdown",
   "id": "a49954ba",
   "metadata": {},
   "source": [
    "1. \n",
    "\n",
    "    **(a) For each of the 10assets, report the following annualized excess return statistics:**\n",
    "        • mean\n",
    "        • volatility\n",
    "        • Sharpe ratio\n",
    "    **(b) Which asset has the**\n",
    "        • highest mean return?\n",
    "        • highest Sharpe ratio?"
   ]
  },
  {
   "cell_type": "code",
   "execution_count": 9,
   "id": "4d625352",
   "metadata": {},
   "outputs": [
    {
     "data": {
      "text/html": [
       "<style type=\"text/css\">\n",
       "</style>\n",
       "<table id=\"T_4ce78\">\n",
       "  <thead>\n",
       "    <tr>\n",
       "      <th class=\"blank level0\" >&nbsp;</th>\n",
       "      <th id=\"T_4ce78_level0_col0\" class=\"col_heading level0 col0\" >Mean</th>\n",
       "      <th id=\"T_4ce78_level0_col1\" class=\"col_heading level0 col1\" >Vol</th>\n",
       "      <th id=\"T_4ce78_level0_col2\" class=\"col_heading level0 col2\" >Sharpe</th>\n",
       "    </tr>\n",
       "  </thead>\n",
       "  <tbody>\n",
       "    <tr>\n",
       "      <th id=\"T_4ce78_level0_row0\" class=\"row_heading level0 row0\" >NoDur</th>\n",
       "      <td id=\"T_4ce78_row0_col0\" class=\"data row0 col0\" >8.66%</td>\n",
       "      <td id=\"T_4ce78_row0_col1\" class=\"data row0 col1\" >12.49%</td>\n",
       "      <td id=\"T_4ce78_row0_col2\" class=\"data row0 col2\" >69.28%</td>\n",
       "    </tr>\n",
       "    <tr>\n",
       "      <th id=\"T_4ce78_level0_row1\" class=\"row_heading level0 row1\" >Utils</th>\n",
       "      <td id=\"T_4ce78_row1_col0\" class=\"data row1 col0\" >9.16%</td>\n",
       "      <td id=\"T_4ce78_row1_col1\" class=\"data row1 col1\" >14.53%</td>\n",
       "      <td id=\"T_4ce78_row1_col2\" class=\"data row1 col2\" >63.03%</td>\n",
       "    </tr>\n",
       "    <tr>\n",
       "      <th id=\"T_4ce78_level0_row2\" class=\"row_heading level0 row2\" >Hlth</th>\n",
       "      <td id=\"T_4ce78_row2_col0\" class=\"data row2 col0\" >7.86%</td>\n",
       "      <td id=\"T_4ce78_row2_col1\" class=\"data row2 col1\" >14.23%</td>\n",
       "      <td id=\"T_4ce78_row2_col2\" class=\"data row2 col2\" >55.28%</td>\n",
       "    </tr>\n",
       "    <tr>\n",
       "      <th id=\"T_4ce78_level0_row3\" class=\"row_heading level0 row3\" >Shops</th>\n",
       "      <td id=\"T_4ce78_row3_col0\" class=\"data row3 col0\" >8.33%</td>\n",
       "      <td id=\"T_4ce78_row3_col1\" class=\"data row3 col1\" >15.81%</td>\n",
       "      <td id=\"T_4ce78_row3_col2\" class=\"data row3 col2\" >52.72%</td>\n",
       "    </tr>\n",
       "    <tr>\n",
       "      <th id=\"T_4ce78_level0_row4\" class=\"row_heading level0 row4\" >Manuf</th>\n",
       "      <td id=\"T_4ce78_row4_col0\" class=\"data row4 col0\" >8.71%</td>\n",
       "      <td id=\"T_4ce78_row4_col1\" class=\"data row4 col1\" >17.37%</td>\n",
       "      <td id=\"T_4ce78_row4_col2\" class=\"data row4 col2\" >50.16%</td>\n",
       "    </tr>\n",
       "    <tr>\n",
       "      <th id=\"T_4ce78_level0_row5\" class=\"row_heading level0 row5\" >Enrgy</th>\n",
       "      <td id=\"T_4ce78_row5_col0\" class=\"data row5 col0\" >9.98%</td>\n",
       "      <td id=\"T_4ce78_row5_col1\" class=\"data row5 col1\" >24.60%</td>\n",
       "      <td id=\"T_4ce78_row5_col2\" class=\"data row5 col2\" >40.56%</td>\n",
       "    </tr>\n",
       "    <tr>\n",
       "      <th id=\"T_4ce78_level0_row6\" class=\"row_heading level0 row6\" >Durbl</th>\n",
       "      <td id=\"T_4ce78_row6_col0\" class=\"data row6 col0\" >10.73%</td>\n",
       "      <td id=\"T_4ce78_row6_col1\" class=\"data row6 col1\" >30.07%</td>\n",
       "      <td id=\"T_4ce78_row6_col2\" class=\"data row6 col2\" >35.69%</td>\n",
       "    </tr>\n",
       "    <tr>\n",
       "      <th id=\"T_4ce78_level0_row7\" class=\"row_heading level0 row7\" >Other</th>\n",
       "      <td id=\"T_4ce78_row7_col0\" class=\"data row7 col0\" >6.56%</td>\n",
       "      <td id=\"T_4ce78_row7_col1\" class=\"data row7 col1\" >18.44%</td>\n",
       "      <td id=\"T_4ce78_row7_col2\" class=\"data row7 col2\" >35.58%</td>\n",
       "    </tr>\n",
       "    <tr>\n",
       "      <th id=\"T_4ce78_level0_row8\" class=\"row_heading level0 row8\" >HiTec</th>\n",
       "      <td id=\"T_4ce78_row8_col0\" class=\"data row8 col0\" >7.24%</td>\n",
       "      <td id=\"T_4ce78_row8_col1\" class=\"data row8 col1\" >23.77%</td>\n",
       "      <td id=\"T_4ce78_row8_col2\" class=\"data row8 col2\" >30.45%</td>\n",
       "    </tr>\n",
       "    <tr>\n",
       "      <th id=\"T_4ce78_level0_row9\" class=\"row_heading level0 row9\" >Telcm</th>\n",
       "      <td id=\"T_4ce78_row9_col0\" class=\"data row9 col0\" >2.35%</td>\n",
       "      <td id=\"T_4ce78_row9_col1\" class=\"data row9 col1\" >18.19%</td>\n",
       "      <td id=\"T_4ce78_row9_col2\" class=\"data row9 col2\" >12.91%</td>\n",
       "    </tr>\n",
       "  </tbody>\n",
       "</table>\n"
      ],
      "text/plain": [
       "<pandas.io.formats.style.Styler at 0x285868250>"
      ]
     },
     "metadata": {},
     "output_type": "display_data"
    },
    {
     "name": "stdout",
     "output_type": "stream",
     "text": [
      "Asset with Max Mean Return: Durbl\n",
      "Asset with Max Sharpe: NoDur\n"
     ]
    }
   ],
   "source": [
    "perform_metrics = performanceMetrics(assets, annualization=12)[['Mean', 'Vol', 'Sharpe']]\n",
    "perform_metrics = perform_metrics.sort_values('Sharpe', ascending = False)\n",
    "display(perform_metrics.style.format('{:,.2%}'))\n",
    "print('Asset with Max Mean Return: {}'.format(perform_metrics.Mean.idxmax()))\n",
    "print('Asset with Max Sharpe: {}'.format(perform_metrics.iloc[0].name))"
   ]
  },
  {
   "cell_type": "markdown",
   "id": "458df231",
   "metadata": {},
   "source": [
    "**2. For each of the 10 assets, report the following statistics (no annualization needed).**\n",
    "        \n",
    "        • VaR (0.05). That is to say, the 5th quantile of returns.\n",
    "        \n",
    "        • CVaR (0.05). That is to say, the average of the returns less than the 5th quantile.\n",
    "        \n",
    "        • Maximum Drawdown. Though we usually calculate maximum drawdown on total returns,\n",
    "        keep things simple and just continue to use the excess returns we’re already using in all\n",
    "        the other problems."
   ]
  },
  {
   "cell_type": "code",
   "execution_count": 10,
   "id": "b12027c0",
   "metadata": {},
   "outputs": [
    {
     "data": {
      "text/html": [
       "<style type=\"text/css\">\n",
       "</style>\n",
       "<table id=\"T_b8c6d\">\n",
       "  <thead>\n",
       "    <tr>\n",
       "      <th class=\"blank level0\" >&nbsp;</th>\n",
       "      <th id=\"T_b8c6d_level0_col0\" class=\"col_heading level0 col0\" >VaR (0.05)</th>\n",
       "      <th id=\"T_b8c6d_level0_col1\" class=\"col_heading level0 col1\" >CVaR (0.05)</th>\n",
       "      <th id=\"T_b8c6d_level0_col2\" class=\"col_heading level0 col2\" >Max Drawdown</th>\n",
       "    </tr>\n",
       "  </thead>\n",
       "  <tbody>\n",
       "    <tr>\n",
       "      <th id=\"T_b8c6d_level0_row0\" class=\"row_heading level0 row0\" >NoDur</th>\n",
       "      <td id=\"T_b8c6d_row0_col0\" class=\"data row0 col0\" >-5.73%</td>\n",
       "      <td id=\"T_b8c6d_row0_col1\" class=\"data row0 col1\" >-7.95%</td>\n",
       "      <td id=\"T_b8c6d_row0_col2\" class=\"data row0 col2\" >-34.99%</td>\n",
       "    </tr>\n",
       "    <tr>\n",
       "      <th id=\"T_b8c6d_level0_row1\" class=\"row_heading level0 row1\" >Durbl</th>\n",
       "      <td id=\"T_b8c6d_row1_col0\" class=\"data row1 col0\" >-11.70%</td>\n",
       "      <td id=\"T_b8c6d_row1_col1\" class=\"data row1 col1\" >-16.07%</td>\n",
       "      <td id=\"T_b8c6d_row1_col2\" class=\"data row1 col2\" >-76.69%</td>\n",
       "    </tr>\n",
       "    <tr>\n",
       "      <th id=\"T_b8c6d_level0_row2\" class=\"row_heading level0 row2\" >Manuf</th>\n",
       "      <td id=\"T_b8c6d_row2_col0\" class=\"data row2 col0\" >-8.50%</td>\n",
       "      <td id=\"T_b8c6d_row2_col1\" class=\"data row2 col1\" >-11.57%</td>\n",
       "      <td id=\"T_b8c6d_row2_col2\" class=\"data row2 col2\" >-54.91%</td>\n",
       "    </tr>\n",
       "    <tr>\n",
       "      <th id=\"T_b8c6d_level0_row3\" class=\"row_heading level0 row3\" >Enrgy</th>\n",
       "      <td id=\"T_b8c6d_row3_col0\" class=\"data row3 col0\" >-10.71%</td>\n",
       "      <td id=\"T_b8c6d_row3_col1\" class=\"data row3 col1\" >-14.72%</td>\n",
       "      <td id=\"T_b8c6d_row3_col2\" class=\"data row3 col2\" >-66.39%</td>\n",
       "    </tr>\n",
       "    <tr>\n",
       "      <th id=\"T_b8c6d_level0_row4\" class=\"row_heading level0 row4\" >HiTec</th>\n",
       "      <td id=\"T_b8c6d_row4_col0\" class=\"data row4 col0\" >-12.12%</td>\n",
       "      <td id=\"T_b8c6d_row4_col1\" class=\"data row4 col1\" >-15.96%</td>\n",
       "      <td id=\"T_b8c6d_row4_col2\" class=\"data row4 col2\" >-81.35%</td>\n",
       "    </tr>\n",
       "    <tr>\n",
       "      <th id=\"T_b8c6d_level0_row5\" class=\"row_heading level0 row5\" >Telcm</th>\n",
       "      <td id=\"T_b8c6d_row5_col0\" class=\"data row5 col0\" >-9.53%</td>\n",
       "      <td id=\"T_b8c6d_row5_col1\" class=\"data row5 col1\" >-12.16%</td>\n",
       "      <td id=\"T_b8c6d_row5_col2\" class=\"data row5 col2\" >-77.39%</td>\n",
       "    </tr>\n",
       "    <tr>\n",
       "      <th id=\"T_b8c6d_level0_row6\" class=\"row_heading level0 row6\" >Shops</th>\n",
       "      <td id=\"T_b8c6d_row6_col0\" class=\"data row6 col0\" >-7.48%</td>\n",
       "      <td id=\"T_b8c6d_row6_col1\" class=\"data row6 col1\" >-9.67%</td>\n",
       "      <td id=\"T_b8c6d_row6_col2\" class=\"data row6 col2\" >-40.91%</td>\n",
       "    </tr>\n",
       "    <tr>\n",
       "      <th id=\"T_b8c6d_level0_row7\" class=\"row_heading level0 row7\" >Hlth</th>\n",
       "      <td id=\"T_b8c6d_row7_col0\" class=\"data row7 col0\" >-7.18%</td>\n",
       "      <td id=\"T_b8c6d_row7_col1\" class=\"data row7 col1\" >-8.85%</td>\n",
       "      <td id=\"T_b8c6d_row7_col2\" class=\"data row7 col2\" >-42.58%</td>\n",
       "    </tr>\n",
       "    <tr>\n",
       "      <th id=\"T_b8c6d_level0_row8\" class=\"row_heading level0 row8\" >Utils</th>\n",
       "      <td id=\"T_b8c6d_row8_col0\" class=\"data row8 col0\" >-6.46%</td>\n",
       "      <td id=\"T_b8c6d_row8_col1\" class=\"data row8 col1\" >-9.72%</td>\n",
       "      <td id=\"T_b8c6d_row8_col2\" class=\"data row8 col2\" >-39.23%</td>\n",
       "    </tr>\n",
       "    <tr>\n",
       "      <th id=\"T_b8c6d_level0_row9\" class=\"row_heading level0 row9\" >Other</th>\n",
       "      <td id=\"T_b8c6d_row9_col0\" class=\"data row9 col0\" >-8.41%</td>\n",
       "      <td id=\"T_b8c6d_row9_col1\" class=\"data row9 col1\" >-12.56%</td>\n",
       "      <td id=\"T_b8c6d_row9_col2\" class=\"data row9 col2\" >-69.57%</td>\n",
       "    </tr>\n",
       "  </tbody>\n",
       "</table>\n"
      ],
      "text/plain": [
       "<pandas.io.formats.style.Styler at 0x110b29810>"
      ]
     },
     "metadata": {},
     "output_type": "display_data"
    }
   ],
   "source": [
    "tail_metrics = tailMetrics(assets)[['VaR (0.05)', 'CVaR (0.05)', 'Max Drawdown']]\n",
    "display(tail_metrics.style.format('{:,.2%}'))"
   ]
  },
  {
   "cell_type": "markdown",
   "id": "e5152de8",
   "metadata": {},
   "source": [
    "**3. Which pair of assets has the highest correlation? And the smallest correlation?**"
   ]
  },
  {
   "cell_type": "code",
   "execution_count": 11,
   "id": "653ec437",
   "metadata": {},
   "outputs": [
    {
     "name": "stdout",
     "output_type": "stream",
     "text": [
      "Highest correlation is between: ('Manuf', 'Other')\n",
      "Lowest correlation is between: ('HiTec', 'Utils')\n"
     ]
    }
   ],
   "source": [
    "cor_table = assets.corr()\n",
    "cor_table[cor_table == 1] = None\n",
    "cor_table = cor_table.unstack().dropna()\n",
    "max_cor = cor_table.max()\n",
    "min_cor = cor_table.min()\n",
    "\n",
    "print('Highest correlation is between: '+ str(cor_table[cor_table==max_cor].index[0]))\n",
    "print('Lowest correlation is between: '+ str(cor_table[cor_table==min_cor].index[0]))"
   ]
  },
  {
   "cell_type": "markdown",
   "id": "df002260",
   "metadata": {},
   "source": [
    "# 2 Mean-Variance Optimization"
   ]
  },
  {
   "cell_type": "markdown",
   "id": "fb3fe05a",
   "metadata": {},
   "source": [
    "**1. Calculate the weights of the tangency portfolio formed from the 10 assets.**"
   ]
  },
  {
   "cell_type": "code",
   "execution_count": 12,
   "id": "12e527b7",
   "metadata": {},
   "outputs": [
    {
     "data": {
      "text/html": [
       "<style type=\"text/css\">\n",
       "</style>\n",
       "<table id=\"T_8fe1d\">\n",
       "  <thead>\n",
       "    <tr>\n",
       "      <th class=\"blank level0\" >&nbsp;</th>\n",
       "      <th id=\"T_8fe1d_level0_col0\" class=\"col_heading level0 col0\" >Weights for the Tangency Portfolio</th>\n",
       "    </tr>\n",
       "  </thead>\n",
       "  <tbody>\n",
       "    <tr>\n",
       "      <th id=\"T_8fe1d_level0_row0\" class=\"row_heading level0 row0\" >NoDur</th>\n",
       "      <td id=\"T_8fe1d_row0_col0\" class=\"data row0 col0\" >74.75%</td>\n",
       "    </tr>\n",
       "    <tr>\n",
       "      <th id=\"T_8fe1d_level0_row1\" class=\"row_heading level0 row1\" >Shops</th>\n",
       "      <td id=\"T_8fe1d_row1_col0\" class=\"data row1 col0\" >42.92%</td>\n",
       "    </tr>\n",
       "    <tr>\n",
       "      <th id=\"T_8fe1d_level0_row2\" class=\"row_heading level0 row2\" >Utils</th>\n",
       "      <td id=\"T_8fe1d_row2_col0\" class=\"data row2 col0\" >29.65%</td>\n",
       "    </tr>\n",
       "    <tr>\n",
       "      <th id=\"T_8fe1d_level0_row3\" class=\"row_heading level0 row3\" >Hlth</th>\n",
       "      <td id=\"T_8fe1d_row3_col0\" class=\"data row3 col0\" >28.27%</td>\n",
       "    </tr>\n",
       "    <tr>\n",
       "      <th id=\"T_8fe1d_level0_row4\" class=\"row_heading level0 row4\" >HiTec</th>\n",
       "      <td id=\"T_8fe1d_row4_col0\" class=\"data row4 col0\" >16.23%</td>\n",
       "    </tr>\n",
       "    <tr>\n",
       "      <th id=\"T_8fe1d_level0_row5\" class=\"row_heading level0 row5\" >Enrgy</th>\n",
       "      <td id=\"T_8fe1d_row5_col0\" class=\"data row5 col0\" >10.91%</td>\n",
       "    </tr>\n",
       "    <tr>\n",
       "      <th id=\"T_8fe1d_level0_row6\" class=\"row_heading level0 row6\" >Manuf</th>\n",
       "      <td id=\"T_8fe1d_row6_col0\" class=\"data row6 col0\" >6.62%</td>\n",
       "    </tr>\n",
       "    <tr>\n",
       "      <th id=\"T_8fe1d_level0_row7\" class=\"row_heading level0 row7\" >Durbl</th>\n",
       "      <td id=\"T_8fe1d_row7_col0\" class=\"data row7 col0\" >1.60%</td>\n",
       "    </tr>\n",
       "    <tr>\n",
       "      <th id=\"T_8fe1d_level0_row8\" class=\"row_heading level0 row8\" >Other</th>\n",
       "      <td id=\"T_8fe1d_row8_col0\" class=\"data row8 col0\" >-49.59%</td>\n",
       "    </tr>\n",
       "    <tr>\n",
       "      <th id=\"T_8fe1d_level0_row9\" class=\"row_heading level0 row9\" >Telcm</th>\n",
       "      <td id=\"T_8fe1d_row9_col0\" class=\"data row9 col0\" >-61.36%</td>\n",
       "    </tr>\n",
       "  </tbody>\n",
       "</table>\n"
      ],
      "text/plain": [
       "<pandas.io.formats.style.Styler at 0x289ae4580>"
      ]
     },
     "execution_count": 12,
     "metadata": {},
     "output_type": "execute_result"
    }
   ],
   "source": [
    "#Tangency Portfolio Weights Vector\n",
    "tangency_portfolio_weights = tangency_portfolio(assets)\n",
    "pd.DataFrame(tangency_portfolio_weights, index = assets.columns, columns = ['Weights for the Tangency Portfolio']).sort_values('Weights for the Tangency Portfolio', ascending = False).style.format('{:,.2%}')"
   ]
  },
  {
   "attachments": {},
   "cell_type": "markdown",
   "id": "20b30600",
   "metadata": {},
   "source": [
    "**2. (a) What are the weights of the optimal portfolio, $w^*$, with a targeted mean excess return of 0.01 per month?**\n",
    "    **(b) Is the optimal portfolio, $w^∗$, invested in the risk-free rate?**"
   ]
  },
  {
   "cell_type": "code",
   "execution_count": 13,
   "id": "742ea622",
   "metadata": {},
   "outputs": [
    {
     "data": {
      "text/html": [
       "<style type=\"text/css\">\n",
       "</style>\n",
       "<table id=\"T_e686a\">\n",
       "  <thead>\n",
       "    <tr>\n",
       "      <th class=\"blank level0\" >&nbsp;</th>\n",
       "      <th id=\"T_e686a_level0_col0\" class=\"col_heading level0 col0\" >Weights for the Target Portfolio</th>\n",
       "    </tr>\n",
       "  </thead>\n",
       "  <tbody>\n",
       "    <tr>\n",
       "      <th id=\"T_e686a_level0_row0\" class=\"row_heading level0 row0\" >NoDur</th>\n",
       "      <td id=\"T_e686a_row0_col0\" class=\"data row0 col0\" >67.44%</td>\n",
       "    </tr>\n",
       "    <tr>\n",
       "      <th id=\"T_e686a_level0_row1\" class=\"row_heading level0 row1\" >Shops</th>\n",
       "      <td id=\"T_e686a_row1_col0\" class=\"data row1 col0\" >38.72%</td>\n",
       "    </tr>\n",
       "    <tr>\n",
       "      <th id=\"T_e686a_level0_row2\" class=\"row_heading level0 row2\" >Utils</th>\n",
       "      <td id=\"T_e686a_row2_col0\" class=\"data row2 col0\" >26.74%</td>\n",
       "    </tr>\n",
       "    <tr>\n",
       "      <th id=\"T_e686a_level0_row3\" class=\"row_heading level0 row3\" >Hlth</th>\n",
       "      <td id=\"T_e686a_row3_col0\" class=\"data row3 col0\" >25.51%</td>\n",
       "    </tr>\n",
       "    <tr>\n",
       "      <th id=\"T_e686a_level0_row4\" class=\"row_heading level0 row4\" >HiTec</th>\n",
       "      <td id=\"T_e686a_row4_col0\" class=\"data row4 col0\" >14.64%</td>\n",
       "    </tr>\n",
       "    <tr>\n",
       "      <th id=\"T_e686a_level0_row5\" class=\"row_heading level0 row5\" >Enrgy</th>\n",
       "      <td id=\"T_e686a_row5_col0\" class=\"data row5 col0\" >9.84%</td>\n",
       "    </tr>\n",
       "    <tr>\n",
       "      <th id=\"T_e686a_level0_row6\" class=\"row_heading level0 row6\" >Manuf</th>\n",
       "      <td id=\"T_e686a_row6_col0\" class=\"data row6 col0\" >5.97%</td>\n",
       "    </tr>\n",
       "    <tr>\n",
       "      <th id=\"T_e686a_level0_row7\" class=\"row_heading level0 row7\" >Durbl</th>\n",
       "      <td id=\"T_e686a_row7_col0\" class=\"data row7 col0\" >1.45%</td>\n",
       "    </tr>\n",
       "    <tr>\n",
       "      <th id=\"T_e686a_level0_row8\" class=\"row_heading level0 row8\" >Other</th>\n",
       "      <td id=\"T_e686a_row8_col0\" class=\"data row8 col0\" >-44.74%</td>\n",
       "    </tr>\n",
       "    <tr>\n",
       "      <th id=\"T_e686a_level0_row9\" class=\"row_heading level0 row9\" >Telcm</th>\n",
       "      <td id=\"T_e686a_row9_col0\" class=\"data row9 col0\" >-55.35%</td>\n",
       "    </tr>\n",
       "  </tbody>\n",
       "</table>\n"
      ],
      "text/plain": [
       "<pandas.io.formats.style.Styler at 0x289ae45b0>"
      ]
     },
     "execution_count": 13,
     "metadata": {},
     "output_type": "execute_result"
    }
   ],
   "source": [
    "# Allocation to tangency portfolio\n",
    "portfolio_weights = tangency_portfolio_weights * tangency_portfolio_allocation(assets, )\n",
    "pd.DataFrame(portfolio_weights, index = assets.columns, columns = ['Weights for the Target Portfolio']).sort_values('Weights for the Target Portfolio', ascending = False).style.format('{:,.2%}')"
   ]
  },
  {
   "cell_type": "code",
   "execution_count": 14,
   "id": "89dc5f0f",
   "metadata": {},
   "outputs": [
    {
     "name": "stdout",
     "output_type": "stream",
     "text": [
      "Yes, the optimal portfolio has 9.79% weight in the risk free rate.\n"
     ]
    }
   ],
   "source": [
    "invst_rf = 1 - sum(portfolio_weights)\n",
    "print('Yes, the optimal portfolio has {:,.2%} weight in the risk free rate.'.format(invst_rf))"
   ]
  },
  {
   "cell_type": "markdown",
   "id": "3f8646eb",
   "metadata": {},
   "source": [
    "**3. Report the mean, volatility, and Sharpe ratio for the optimized portfolio, $w∗$, (calculated in the previous question.) Annualize the statistics.**"
   ]
  },
  {
   "cell_type": "code",
   "execution_count": 15,
   "id": "29279f42",
   "metadata": {},
   "outputs": [
    {
     "data": {
      "text/html": [
       "<style type=\"text/css\">\n",
       "</style>\n",
       "<table id=\"T_b4c12\">\n",
       "  <thead>\n",
       "    <tr>\n",
       "      <th class=\"blank level0\" >&nbsp;</th>\n",
       "      <th id=\"T_b4c12_level0_col0\" class=\"col_heading level0 col0\" >Mean</th>\n",
       "      <th id=\"T_b4c12_level0_col1\" class=\"col_heading level0 col1\" >Vol</th>\n",
       "      <th id=\"T_b4c12_level0_col2\" class=\"col_heading level0 col2\" >Sharpe</th>\n",
       "      <th id=\"T_b4c12_level0_col3\" class=\"col_heading level0 col3\" >Min</th>\n",
       "      <th id=\"T_b4c12_level0_col4\" class=\"col_heading level0 col4\" >Max</th>\n",
       "    </tr>\n",
       "  </thead>\n",
       "  <tbody>\n",
       "    <tr>\n",
       "      <th id=\"T_b4c12_level0_row0\" class=\"row_heading level0 row0\" >Optimal Portfolio</th>\n",
       "      <td id=\"T_b4c12_row0_col0\" class=\"data row0 col0\" >12.00%</td>\n",
       "      <td id=\"T_b4c12_row0_col1\" class=\"data row0 col1\" >12.24%</td>\n",
       "      <td id=\"T_b4c12_row0_col2\" class=\"data row0 col2\" >98.01%</td>\n",
       "      <td id=\"T_b4c12_row0_col3\" class=\"data row0 col3\" >-10.19%</td>\n",
       "      <td id=\"T_b4c12_row0_col4\" class=\"data row0 col4\" >13.61%</td>\n",
       "    </tr>\n",
       "  </tbody>\n",
       "</table>\n"
      ],
      "text/plain": [
       "<pandas.io.formats.style.Styler at 0x28766efe0>"
      ]
     },
     "execution_count": 15,
     "metadata": {},
     "output_type": "execute_result"
    }
   ],
   "source": [
    "performanceMetrics(pd.DataFrame(assets@portfolio_weights, columns=['Optimal Portfolio']), annualization=12)\\\n",
    ".style.format('{:,.2%}')"
   ]
  },
  {
   "cell_type": "markdown",
   "id": "47988fc7",
   "metadata": {},
   "source": [
    "**4. Suppose an endowment is optimizing the multi-asset-class ETFs we used in our case study of Homework 1. Briefly describe one thing that should be considered in deciding whether to make Bitcoin an (additional) asset class for the endowment’s allocation.**"
   ]
  },
  {
   "cell_type": "markdown",
   "id": "4cec4f02",
   "metadata": {},
   "source": [
    "The endowment should consider Bitcoin's return correlation with other assets/asset classes before including it in the allocation. Lower correlation to other assets is preferred to improve portfolio diversification, thereby increase portfolio Sharpe Ratio."
   ]
  },
  {
   "cell_type": "markdown",
   "id": "e4ed4b7d",
   "metadata": {},
   "source": [
    "**5. In Homework 1, we tried estimating the mean-variance solution using data from 2009-2020 and testing it out of sample in 2021-2022.\n",
    "We found the out-of-sample performance of the MV solution was worse than an equally weighted\n",
    "portfolio.\n",
    "Explain from a technical perspective why MV failed out of sample.**"
   ]
  },
  {
   "attachments": {},
   "cell_type": "markdown",
   "id": "82db27a1",
   "metadata": {},
   "source": [
    "MV Optimization fails out-of-sample for two reasons:\n",
    "\n",
    "1. ***Imprecise estimation of covariance matrix:*** The covariance matrix is poorly estimated in the case of large number of assets or less amount of historical data. Inverting the covariance matrix makes the estimation even more fragile. Inverting a matrix with high correlations increases the condition number further adding to the instability. Due to these, our estimates of covariances will likely not hold out-of-sample.\n",
    "2. ***High senstivity to changes in mean return:*** MV optimizer is highly sensitive to small changes in the estimated mean returns of the security pool. Large swings in portfolio weights are required to maintain the optimal portfolio even with small changes in mean returns. Due to this, MV optimizer does not perform well on out-of-sample data   "
   ]
  },
  {
   "cell_type": "markdown",
   "id": "5cf30069",
   "metadata": {},
   "source": [
    "# 3 Pricing"
   ]
  },
  {
   "cell_type": "markdown",
   "id": "8fcbcfcb",
   "metadata": {},
   "source": [
    "**1. Test a 3-factor pricing model on the 10assets. All this data is already given in excess returns, so no further adjustment is needed. Report the:**\n",
    "\n",
    "    - annualized alphas\n",
    "    - annualized Information ratios\n",
    "    - r-squared statistics"
   ]
  },
  {
   "cell_type": "code",
   "execution_count": 16,
   "id": "c2c0c032",
   "metadata": {},
   "outputs": [
    {
     "data": {
      "text/html": [
       "<style type=\"text/css\">\n",
       "</style>\n",
       "<table id=\"T_28589\">\n",
       "  <thead>\n",
       "    <tr>\n",
       "      <th class=\"blank level0\" >&nbsp;</th>\n",
       "      <th id=\"T_28589_level0_col0\" class=\"col_heading level0 col0\" >alpha</th>\n",
       "      <th id=\"T_28589_level0_col1\" class=\"col_heading level0 col1\" >MKT</th>\n",
       "      <th id=\"T_28589_level0_col2\" class=\"col_heading level0 col2\" >HML</th>\n",
       "      <th id=\"T_28589_level0_col3\" class=\"col_heading level0 col3\" >RMW</th>\n",
       "      <th id=\"T_28589_level0_col4\" class=\"col_heading level0 col4\" >r-squared</th>\n",
       "      <th id=\"T_28589_level0_col5\" class=\"col_heading level0 col5\" >Info Ratio</th>\n",
       "    </tr>\n",
       "  </thead>\n",
       "  <tbody>\n",
       "    <tr>\n",
       "      <th id=\"T_28589_level0_row0\" class=\"row_heading level0 row0\" >NoDur</th>\n",
       "      <td id=\"T_28589_row0_col0\" class=\"data row0 col0\" >1.78%</td>\n",
       "      <td id=\"T_28589_row0_col1\" class=\"data row0 col1\" >66.46%</td>\n",
       "      <td id=\"T_28589_row0_col2\" class=\"data row0 col2\" >12.56%</td>\n",
       "      <td id=\"T_28589_row0_col3\" class=\"data row0 col3\" >40.79%</td>\n",
       "      <td id=\"T_28589_row0_col4\" class=\"data row0 col4\" >63.82%</td>\n",
       "      <td id=\"T_28589_row0_col5\" class=\"data row0 col5\" >23.74%</td>\n",
       "    </tr>\n",
       "    <tr>\n",
       "      <th id=\"T_28589_level0_row1\" class=\"row_heading level0 row1\" >Durbl</th>\n",
       "      <td id=\"T_28589_row1_col0\" class=\"data row1 col0\" >-1.91%</td>\n",
       "      <td id=\"T_28589_row1_col1\" class=\"data row1 col1\" >158.66%</td>\n",
       "      <td id=\"T_28589_row1_col2\" class=\"data row1 col2\" >20.04%</td>\n",
       "      <td id=\"T_28589_row1_col3\" class=\"data row1 col3\" >33.18%</td>\n",
       "      <td id=\"T_28589_row1_col4\" class=\"data row1 col4\" >63.84%</td>\n",
       "      <td id=\"T_28589_row1_col5\" class=\"data row1 col5\" >-10.55%</td>\n",
       "    </tr>\n",
       "    <tr>\n",
       "      <th id=\"T_28589_level0_row2\" class=\"row_heading level0 row2\" >Manuf</th>\n",
       "      <td id=\"T_28589_row2_col0\" class=\"data row2 col0\" >-0.38%</td>\n",
       "      <td id=\"T_28589_row2_col1\" class=\"data row2 col1\" >107.91%</td>\n",
       "      <td id=\"T_28589_row2_col2\" class=\"data row2 col2\" >18.53%</td>\n",
       "      <td id=\"T_28589_row2_col3\" class=\"data row2 col3\" >28.88%</td>\n",
       "      <td id=\"T_28589_row2_col4\" class=\"data row2 col4\" >88.13%</td>\n",
       "      <td id=\"T_28589_row2_col5\" class=\"data row2 col5\" >-6.28%</td>\n",
       "    </tr>\n",
       "    <tr>\n",
       "      <th id=\"T_28589_level0_row3\" class=\"row_heading level0 row3\" >Enrgy</th>\n",
       "      <td id=\"T_28589_row3_col0\" class=\"data row3 col0\" >0.85%</td>\n",
       "      <td id=\"T_28589_row3_col1\" class=\"data row3 col1\" >99.10%</td>\n",
       "      <td id=\"T_28589_row3_col2\" class=\"data row3 col2\" >65.11%</td>\n",
       "      <td id=\"T_28589_row3_col3\" class=\"data row3 col3\" >13.80%</td>\n",
       "      <td id=\"T_28589_row3_col4\" class=\"data row3 col4\" >47.57%</td>\n",
       "      <td id=\"T_28589_row3_col5\" class=\"data row3 col5\" >4.77%</td>\n",
       "    </tr>\n",
       "    <tr>\n",
       "      <th id=\"T_28589_level0_row4\" class=\"row_heading level0 row4\" >HiTec</th>\n",
       "      <td id=\"T_28589_row4_col0\" class=\"data row4 col0\" >3.07%</td>\n",
       "      <td id=\"T_28589_row4_col1\" class=\"data row4 col1\" >121.60%</td>\n",
       "      <td id=\"T_28589_row4_col2\" class=\"data row4 col2\" >-48.38%</td>\n",
       "      <td id=\"T_28589_row4_col3\" class=\"data row4 col3\" >-40.91%</td>\n",
       "      <td id=\"T_28589_row4_col4\" class=\"data row4 col4\" >89.18%</td>\n",
       "      <td id=\"T_28589_row4_col5\" class=\"data row4 col5\" >39.26%</td>\n",
       "    </tr>\n",
       "    <tr>\n",
       "      <th id=\"T_28589_level0_row5\" class=\"row_heading level0 row5\" >Telcm</th>\n",
       "      <td id=\"T_28589_row5_col0\" class=\"data row5 col0\" >-3.57%</td>\n",
       "      <td id=\"T_28589_row5_col1\" class=\"data row5 col1\" >93.56%</td>\n",
       "      <td id=\"T_28589_row5_col2\" class=\"data row5 col2\" >2.03%</td>\n",
       "      <td id=\"T_28589_row5_col3\" class=\"data row5 col3\" >-3.38%</td>\n",
       "      <td id=\"T_28589_row5_col4\" class=\"data row5 col4\" >66.51%</td>\n",
       "      <td id=\"T_28589_row5_col5\" class=\"data row5 col5\" >-33.93%</td>\n",
       "    </tr>\n",
       "    <tr>\n",
       "      <th id=\"T_28589_level0_row6\" class=\"row_heading level0 row6\" >Shops</th>\n",
       "      <td id=\"T_28589_row6_col0\" class=\"data row6 col0\" >0.42%</td>\n",
       "      <td id=\"T_28589_row6_col1\" class=\"data row6 col1\" >94.06%</td>\n",
       "      <td id=\"T_28589_row6_col2\" class=\"data row6 col2\" >-5.27%</td>\n",
       "      <td id=\"T_28589_row6_col3\" class=\"data row6 col3\" >37.21%</td>\n",
       "      <td id=\"T_28589_row6_col4\" class=\"data row6 col4\" >76.10%</td>\n",
       "      <td id=\"T_28589_row6_col5\" class=\"data row6 col5\" >5.40%</td>\n",
       "    </tr>\n",
       "    <tr>\n",
       "      <th id=\"T_28589_level0_row7\" class=\"row_heading level0 row7\" >Hlth</th>\n",
       "      <td id=\"T_28589_row7_col0\" class=\"data row7 col0\" >3.36%</td>\n",
       "      <td id=\"T_28589_row7_col1\" class=\"data row7 col1\" >66.42%</td>\n",
       "      <td id=\"T_28589_row7_col2\" class=\"data row7 col2\" >-8.60%</td>\n",
       "      <td id=\"T_28589_row7_col3\" class=\"data row7 col3\" >8.81%</td>\n",
       "      <td id=\"T_28589_row7_col4\" class=\"data row7 col4\" >51.36%</td>\n",
       "      <td id=\"T_28589_row7_col5\" class=\"data row7 col5\" >33.91%</td>\n",
       "    </tr>\n",
       "    <tr>\n",
       "      <th id=\"T_28589_level0_row8\" class=\"row_heading level0 row8\" >Utils</th>\n",
       "      <td id=\"T_28589_row8_col0\" class=\"data row8 col0\" >3.73%</td>\n",
       "      <td id=\"T_28589_row8_col1\" class=\"data row8 col1\" >51.80%</td>\n",
       "      <td id=\"T_28589_row8_col2\" class=\"data row8 col2\" >15.34%</td>\n",
       "      <td id=\"T_28589_row8_col3\" class=\"data row8 col3\" >29.96%</td>\n",
       "      <td id=\"T_28589_row8_col4\" class=\"data row8 col4\" >30.03%</td>\n",
       "      <td id=\"T_28589_row8_col5\" class=\"data row8 col5\" >30.72%</td>\n",
       "    </tr>\n",
       "    <tr>\n",
       "      <th id=\"T_28589_level0_row9\" class=\"row_heading level0 row9\" >Other</th>\n",
       "      <td id=\"T_28589_row9_col0\" class=\"data row9 col0\" >-2.11%</td>\n",
       "      <td id=\"T_28589_row9_col1\" class=\"data row9 col1\" >107.62%</td>\n",
       "      <td id=\"T_28589_row9_col2\" class=\"data row9 col2\" >50.95%</td>\n",
       "      <td id=\"T_28589_row9_col3\" class=\"data row9 col3\" >3.09%</td>\n",
       "      <td id=\"T_28589_row9_col4\" class=\"data row9 col4\" >92.01%</td>\n",
       "      <td id=\"T_28589_row9_col5\" class=\"data row9 col5\" >-40.39%</td>\n",
       "    </tr>\n",
       "  </tbody>\n",
       "</table>\n"
      ],
      "text/plain": [
       "<pandas.io.formats.style.Styler at 0x289b4fdc0>"
      ]
     },
     "metadata": {},
     "output_type": "display_data"
    }
   ],
   "source": [
    "pricing_reg = get_ols_metrics(factors, assets, annualization=12)\n",
    "display(pricing_reg.style.format('{:,.2%}'))"
   ]
  },
  {
   "cell_type": "markdown",
   "id": "06fadff9",
   "metadata": {},
   "source": [
    "**2. Which asset does the pricing model fit best?**"
   ]
  },
  {
   "cell_type": "code",
   "execution_count": 17,
   "id": "1af80e70",
   "metadata": {},
   "outputs": [
    {
     "name": "stdout",
     "output_type": "stream",
     "text": [
      "Pricing model fits Manuf asset class the best because it has the lowest absolute alpha.\n"
     ]
    }
   ],
   "source": [
    "print('Pricing model fits {} asset class the best because it has the lowest absolute alpha.'\\\n",
    "      .format(pricing_reg.alpha.abs().idxmin()))"
   ]
  },
  {
   "cell_type": "markdown",
   "id": "404572a1",
   "metadata": {},
   "source": [
    "**3. (5pts) Instead of the 3-factor model above, suppose the CAPM is true and fits perfectly in our\n",
    "sample. For n assets, what do we know about their...**\n",
    "\n",
    "    • time-series r-squared metrics?\n",
    "    • Treynor Ratios?\n",
    "    • Information Ratios?\n",
    "    \n",
    "    \n",
    "**time-series r-squared metrics:** Nothing. Time-series R-Squared values can be high or low even if the CAPM is perfect, because CAPM doesn't claim to explain the difference in returns of a security at different times. CAPM says that long term expected excess return of a security if a linear function of it's beta to the market premium.\n",
    "\n",
    "**Treynor Ratio:** If CAPM were true, Treynor Ratio $\\frac{\\mathbb{E}[\\tilde{r}]}{\\beta}$ for every security would be equal to the expected market premium. \n",
    "\n",
    "**Information Ratio:** If CAPM were true, there would be no excess expected return against the market premium. Hence alpha would be zero and Info Ratio would be zero."
   ]
  },
  {
   "cell_type": "markdown",
   "id": "230a7e6e",
   "metadata": {},
   "source": [
    "**4. Suppose the CAPM is true and fits perfectly in our sample, yet we estimated the 3-factor model as above. Would the betas on the extra regressors (HML and RMW) be zero?**"
   ]
  },
  {
   "cell_type": "markdown",
   "id": "27dd9141",
   "metadata": {},
   "source": [
    "Even if CAPM is true and fits perfectly in the sample, it is not necessary that the time-series betas on other factors would be zero. That's because these factors can still help explain the variation in a security returns time series so that time-series model error terms are even smaller."
   ]
  },
  {
   "cell_type": "markdown",
   "id": "a1bde01e",
   "metadata": {},
   "source": [
    "# 4 Forecasting"
   ]
  },
  {
   "cell_type": "markdown",
   "id": "e6f19ba7",
   "metadata": {},
   "source": [
    "**1. Forecast the market return, MKT, using the lagged risk-free rate as a signal. Report the beta and r-squared from the regression.**"
   ]
  },
  {
   "cell_type": "code",
   "execution_count": 18,
   "id": "57257e62",
   "metadata": {},
   "outputs": [
    {
     "data": {
      "text/html": [
       "<style type=\"text/css\">\n",
       "</style>\n",
       "<table id=\"T_4bfee\">\n",
       "  <thead>\n",
       "    <tr>\n",
       "      <th class=\"blank level0\" >&nbsp;</th>\n",
       "      <th id=\"T_4bfee_level0_col0\" class=\"col_heading level0 col0\" >Beta</th>\n",
       "      <th id=\"T_4bfee_level0_col1\" class=\"col_heading level0 col1\" >R-Squared</th>\n",
       "    </tr>\n",
       "  </thead>\n",
       "  <tbody>\n",
       "    <tr>\n",
       "      <th id=\"T_4bfee_level0_row0\" class=\"row_heading level0 row0\" >Forecast</th>\n",
       "      <td id=\"T_4bfee_row0_col0\" class=\"data row0 col0\" >-4.63</td>\n",
       "      <td id=\"T_4bfee_row0_col1\" class=\"data row0 col1\" >2.31%</td>\n",
       "    </tr>\n",
       "  </tbody>\n",
       "</table>\n"
      ],
      "text/plain": [
       "<pandas.io.formats.style.Styler at 0x289e4f640>"
      ]
     },
     "metadata": {},
     "output_type": "display_data"
    }
   ],
   "source": [
    "lag_risk_free = risk_free.shift().dropna()\n",
    "mkt = factors[['MKT']].iloc[1:]\n",
    "model = LinearRegression().fit(lag_risk_free, mkt)\n",
    "model_params = pd.DataFrame({'Beta': model.coef_[0], 'R-Squared' : model.score(lag_risk_free, mkt)}, index = ['Forecast'])\n",
    "display(model_params.style.format({'Beta':'{:,.2f}', 'R-Squared' : '{:,.2%}'}))"
   ]
  },
  {
   "cell_type": "markdown",
   "id": "89e1321c",
   "metadata": {},
   "source": [
    "**2. Calculate the fitted values.**\n",
    "\n",
    "$$\\hat{y_t} = \\alpha + \\beta x_t$$\n",
    "\n",
    "**Use them to calculate the weights:**\n",
    "$$w_t = 100\\hat{y_t} = 100(\\alpha + \\beta x_t)$$\n",
    "\n",
    "**Report the final value in the timeseries of $w_t$**"
   ]
  },
  {
   "cell_type": "code",
   "execution_count": 23,
   "id": "843356c0",
   "metadata": {},
   "outputs": [
    {
     "name": "stdout",
     "output_type": "stream",
     "text": [
      "[1.12435602]\n"
     ]
    },
    {
     "data": {
      "text/plain": [
       "array([[-0.00775645],\n",
       "       [-0.00868328],\n",
       "       [-0.01053694],\n",
       "       [-0.01007353],\n",
       "       [-0.01192719],\n",
       "       [-0.00729304],\n",
       "       [-0.01100036],\n",
       "       [-0.01192719],\n",
       "       [-0.0123906 ],\n",
       "       [-0.01470768],\n",
       "       [-0.0123906 ],\n",
       "       [-0.01192719],\n",
       "       [-0.01378085],\n",
       "       [-0.00636621],\n",
       "       [-0.00821987],\n",
       "       [-0.00682962],\n",
       "       [-0.00358572],\n",
       "       [-0.00173206],\n",
       "       [-0.00265889],\n",
       "       [-0.0031223 ],\n",
       "       [-0.00173206],\n",
       "       [ 0.00104843],\n",
       "       [ 0.00336551],\n",
       "       [ 0.00429234],\n",
       "       [ 0.00475575],\n",
       "       [ 0.00521917],\n",
       "       [ 0.00521917],\n",
       "       [ 0.00429234],\n",
       "       [ 0.00475575],\n",
       "       [ 0.00521917],\n",
       "       [ 0.00429234],\n",
       "       [ 0.00475575],\n",
       "       [ 0.00475575],\n",
       "       [ 0.00475575],\n",
       "       [ 0.00568258],\n",
       "       [ 0.006146  ],\n",
       "       [ 0.00660941],\n",
       "       [ 0.00707283],\n",
       "       [ 0.00660941],\n",
       "       [ 0.00660941],\n",
       "       [ 0.00707283],\n",
       "       [ 0.00660941],\n",
       "       [ 0.00799966],\n",
       "       [ 0.00799966],\n",
       "       [ 0.00753624],\n",
       "       [ 0.00799966],\n",
       "       [ 0.00799966],\n",
       "       [ 0.00753624],\n",
       "       [ 0.00799966],\n",
       "       [ 0.00846307],\n",
       "       [ 0.00707283],\n",
       "       [ 0.00753624],\n",
       "       [ 0.00846307],\n",
       "       [ 0.00753624],\n",
       "       [ 0.00660941],\n",
       "       [ 0.006146  ],\n",
       "       [ 0.006146  ],\n",
       "       [ 0.006146  ],\n",
       "       [ 0.00429234],\n",
       "       [ 0.00382892],\n",
       "       [ 0.00382892],\n",
       "       [ 0.00382892],\n",
       "       [ 0.00151185],\n",
       "       [ 0.00151185],\n",
       "       [ 0.0001216 ],\n",
       "       [ 0.00058502],\n",
       "       [ 0.0001216 ],\n",
       "       [-0.00265889],\n",
       "       [-0.00219547],\n",
       "       [-0.00126864],\n",
       "       [-0.0031223 ],\n",
       "       [-0.00358572],\n",
       "       [-0.00497596],\n",
       "       [-0.00451255],\n",
       "       [-0.00590279],\n",
       "       [-0.00543938],\n",
       "       [-0.00868328],\n",
       "       [-0.00729304],\n",
       "       [-0.00729304],\n",
       "       [-0.00821987],\n",
       "       [-0.00775645],\n",
       "       [-0.00775645],\n",
       "       [-0.00821987],\n",
       "       [-0.00729304],\n",
       "       [-0.0091467 ],\n",
       "       [-0.00636621],\n",
       "       [-0.00868328],\n",
       "       [-0.0091467 ],\n",
       "       [-0.00775645],\n",
       "       [-0.00729304],\n",
       "       [-0.00729304],\n",
       "       [-0.00821987],\n",
       "       [-0.00358572],\n",
       "       [-0.00358572],\n",
       "       [-0.00451255],\n",
       "       [-0.00126864],\n",
       "       [ 0.00151185],\n",
       "       [ 0.00521917],\n",
       "       [ 0.00336551],\n",
       "       [ 0.00290209],\n",
       "       [ 0.00290209],\n",
       "       [ 0.00336551],\n",
       "       [ 0.00429234],\n",
       "       [ 0.00521917],\n",
       "       [ 0.00429234],\n",
       "       [ 0.00753624],\n",
       "       [ 0.00985332],\n",
       "       [ 0.01124356],\n",
       "       [ 0.01124356],\n",
       "       [ 0.01078015],\n",
       "       [ 0.01031673],\n",
       "       [ 0.01078015],\n",
       "       [ 0.01124356],\n",
       "       [ 0.01078015],\n",
       "       [ 0.01078015],\n",
       "       [ 0.01078015],\n",
       "       [ 0.01078015],\n",
       "       [ 0.01124356],\n",
       "       [ 0.01124356],\n",
       "       [ 0.01078015],\n",
       "       [ 0.01124356],\n",
       "       [ 0.01124356],\n",
       "       [ 0.01078015],\n",
       "       [ 0.01078015],\n",
       "       [ 0.01078015],\n",
       "       [ 0.01078015],\n",
       "       [ 0.01078015],\n",
       "       [ 0.01078015],\n",
       "       [ 0.01078015],\n",
       "       [ 0.01078015],\n",
       "       [ 0.01078015],\n",
       "       [ 0.01078015],\n",
       "       [ 0.01078015],\n",
       "       [ 0.01078015],\n",
       "       [ 0.01078015],\n",
       "       [ 0.01124356],\n",
       "       [ 0.01124356],\n",
       "       [ 0.01124356],\n",
       "       [ 0.01124356],\n",
       "       [ 0.01078015],\n",
       "       [ 0.01124356],\n",
       "       [ 0.01124356],\n",
       "       [ 0.01124356],\n",
       "       [ 0.01124356],\n",
       "       [ 0.01124356],\n",
       "       [ 0.01124356],\n",
       "       [ 0.01124356],\n",
       "       [ 0.01124356],\n",
       "       [ 0.01078015],\n",
       "       [ 0.01124356],\n",
       "       [ 0.01124356],\n",
       "       [ 0.01078015],\n",
       "       [ 0.01078015],\n",
       "       [ 0.01078015],\n",
       "       [ 0.01078015],\n",
       "       [ 0.01078015],\n",
       "       [ 0.01124356],\n",
       "       [ 0.01124356],\n",
       "       [ 0.01124356],\n",
       "       [ 0.01124356],\n",
       "       [ 0.01124356],\n",
       "       [ 0.01124356],\n",
       "       [ 0.01124356],\n",
       "       [ 0.01124356],\n",
       "       [ 0.01124356],\n",
       "       [ 0.01124356],\n",
       "       [ 0.01124356],\n",
       "       [ 0.01124356],\n",
       "       [ 0.01124356],\n",
       "       [ 0.01124356],\n",
       "       [ 0.01124356],\n",
       "       [ 0.01124356],\n",
       "       [ 0.01124356],\n",
       "       [ 0.01124356],\n",
       "       [ 0.01124356],\n",
       "       [ 0.01124356],\n",
       "       [ 0.01124356],\n",
       "       [ 0.01124356],\n",
       "       [ 0.01124356],\n",
       "       [ 0.01124356],\n",
       "       [ 0.01124356],\n",
       "       [ 0.01124356],\n",
       "       [ 0.01124356],\n",
       "       [ 0.01124356],\n",
       "       [ 0.01124356],\n",
       "       [ 0.01124356],\n",
       "       [ 0.01124356],\n",
       "       [ 0.01124356],\n",
       "       [ 0.01124356],\n",
       "       [ 0.01124356],\n",
       "       [ 0.01124356],\n",
       "       [ 0.01078015],\n",
       "       [ 0.01078015],\n",
       "       [ 0.01031673],\n",
       "       [ 0.01031673],\n",
       "       [ 0.01078015],\n",
       "       [ 0.01078015],\n",
       "       [ 0.01031673],\n",
       "       [ 0.01031673],\n",
       "       [ 0.01031673],\n",
       "       [ 0.01031673],\n",
       "       [ 0.01031673],\n",
       "       [ 0.01078015],\n",
       "       [ 0.00985332],\n",
       "       [ 0.0093899 ],\n",
       "       [ 0.0093899 ],\n",
       "       [ 0.00985332],\n",
       "       [ 0.00892649],\n",
       "       [ 0.00846307],\n",
       "       [ 0.00846307],\n",
       "       [ 0.00799966],\n",
       "       [ 0.00707283],\n",
       "       [ 0.00707283],\n",
       "       [ 0.00707283],\n",
       "       [ 0.00753624],\n",
       "       [ 0.00707283],\n",
       "       [ 0.006146  ],\n",
       "       [ 0.006146  ],\n",
       "       [ 0.00568258],\n",
       "       [ 0.00475575],\n",
       "       [ 0.00475575],\n",
       "       [ 0.00475575],\n",
       "       [ 0.00382892],\n",
       "       [ 0.00382892],\n",
       "       [ 0.00429234],\n",
       "       [ 0.00243868],\n",
       "       [ 0.00290209],\n",
       "       [ 0.00243868],\n",
       "       [ 0.00151185],\n",
       "       [ 0.00290209],\n",
       "       [ 0.00243868],\n",
       "       [ 0.00151185],\n",
       "       [ 0.00151185],\n",
       "       [ 0.00290209],\n",
       "       [ 0.00243868],\n",
       "       [ 0.00382892],\n",
       "       [ 0.00290209],\n",
       "       [ 0.00429234],\n",
       "       [ 0.00568258],\n",
       "       [ 0.00475575],\n",
       "       [ 0.00521917],\n",
       "       [ 0.00568258],\n",
       "       [ 0.00568258],\n",
       "       [ 0.01124356],\n",
       "       [ 0.01078015],\n",
       "       [ 0.01078015],\n",
       "       [ 0.01078015],\n",
       "       [ 0.01078015],\n",
       "       [ 0.01078015],\n",
       "       [ 0.01078015],\n",
       "       [ 0.01078015],\n",
       "       [ 0.01078015],\n",
       "       [ 0.01124356],\n",
       "       [ 0.01124356],\n",
       "       [ 0.01124356],\n",
       "       [ 0.01124356],\n",
       "       [ 0.01124356],\n",
       "       [ 0.01124356],\n",
       "       [ 0.01124356],\n",
       "       [ 0.01124356],\n",
       "       [ 0.01124356],\n",
       "       [ 0.01124356],\n",
       "       [ 0.01124356],\n",
       "       [ 0.01078015],\n",
       "       [ 0.01124356],\n",
       "       [ 0.01124356],\n",
       "       [ 0.01124356],\n",
       "       [ 0.01124356]])"
      ]
     },
     "execution_count": 23,
     "metadata": {},
     "output_type": "execute_result"
    }
   ],
   "source": [
    "predict_mkt = model.predict(lag_risk_free)\n",
    "wt = 100*predict_mkt\n",
    "print(wt[len(wt)-1])\n",
    "predict_mkt"
   ]
  },
  {
   "cell_type": "markdown",
   "id": "953d3111",
   "metadata": {},
   "source": [
    "**3. Use the weights to calculate the strategy return:**\n",
    "$$r^x_{t+1} = w_t r^{\\text{MKT}}_{t+1}$$\n",
    "\n",
    "Report the **annualized** mean, volatility and Sharpe ratio of the strategy."
   ]
  },
  {
   "cell_type": "code",
   "execution_count": 24,
   "id": "54e7aecf",
   "metadata": {},
   "outputs": [
    {
     "data": {
      "text/html": [
       "<style type=\"text/css\">\n",
       "</style>\n",
       "<table id=\"T_09bbd\">\n",
       "  <thead>\n",
       "    <tr>\n",
       "      <th class=\"blank level0\" >&nbsp;</th>\n",
       "      <th id=\"T_09bbd_level0_col0\" class=\"col_heading level0 col0\" >Mean</th>\n",
       "      <th id=\"T_09bbd_level0_col1\" class=\"col_heading level0 col1\" >Vol</th>\n",
       "      <th id=\"T_09bbd_level0_col2\" class=\"col_heading level0 col2\" >Sharpe</th>\n",
       "      <th id=\"T_09bbd_level0_col3\" class=\"col_heading level0 col3\" >Min</th>\n",
       "      <th id=\"T_09bbd_level0_col4\" class=\"col_heading level0 col4\" >Max</th>\n",
       "    </tr>\n",
       "  </thead>\n",
       "  <tbody>\n",
       "    <tr>\n",
       "      <th id=\"T_09bbd_level0_row0\" class=\"row_heading level0 row0\" >MKT</th>\n",
       "      <td id=\"T_09bbd_row0_col0\" class=\"data row0 col0\" >9.41%</td>\n",
       "      <td id=\"T_09bbd_row0_col1\" class=\"data row0 col1\" >13.67%</td>\n",
       "      <td id=\"T_09bbd_row0_col2\" class=\"data row0 col2\" >68.85%</td>\n",
       "      <td id=\"T_09bbd_row0_col3\" class=\"data row0 col3\" >-11.36%</td>\n",
       "      <td id=\"T_09bbd_row0_col4\" class=\"data row0 col4\" >15.77%</td>\n",
       "    </tr>\n",
       "  </tbody>\n",
       "</table>\n"
      ],
      "text/plain": [
       "<pandas.io.formats.style.Styler at 0x289e4fe20>"
      ]
     },
     "execution_count": 24,
     "metadata": {},
     "output_type": "execute_result"
    }
   ],
   "source": [
    "rt = wt*mkt\n",
    "performanceMetrics(rt, 12).style.format('{:,.2%}')"
   ]
  },
  {
   "cell_type": "markdown",
   "id": "d4931c53",
   "metadata": {},
   "source": [
    "**4. Estimate the factor decomposition of the strategy versus the MKT factor:**\n",
    "\n",
    "$$r^x_t = \\alpha + \\beta r^{\\text{MKT}}_t + \\epsilon_t$$\n",
    "\n",
    "**Report**\n",
    "* the annualized alpha and Info Ratio. \n",
    "* beta\n",
    "* r-squared."
   ]
  },
  {
   "cell_type": "code",
   "execution_count": 21,
   "id": "56172d67",
   "metadata": {},
   "outputs": [
    {
     "data": {
      "text/html": [
       "<style type=\"text/css\">\n",
       "</style>\n",
       "<table id=\"T_224ad\">\n",
       "  <thead>\n",
       "    <tr>\n",
       "      <th class=\"blank level0\" >&nbsp;</th>\n",
       "      <th id=\"T_224ad_level0_col0\" class=\"col_heading level0 col0\" >alpha</th>\n",
       "      <th id=\"T_224ad_level0_col1\" class=\"col_heading level0 col1\" >Info Ratio</th>\n",
       "      <th id=\"T_224ad_level0_col2\" class=\"col_heading level0 col2\" >MKT</th>\n",
       "      <th id=\"T_224ad_level0_col3\" class=\"col_heading level0 col3\" >r-squared</th>\n",
       "    </tr>\n",
       "  </thead>\n",
       "  <tbody>\n",
       "    <tr>\n",
       "      <th id=\"T_224ad_level0_row0\" class=\"row_heading level0 row0\" >MKT</th>\n",
       "      <td id=\"T_224ad_row0_col0\" class=\"data row0 col0\" >5.94%</td>\n",
       "      <td id=\"T_224ad_row0_col1\" class=\"data row0 col1\" >54.13%</td>\n",
       "      <td id=\"T_224ad_row0_col2\" class=\"data row0 col2\" >51.86%</td>\n",
       "      <td id=\"T_224ad_row0_col3\" class=\"data row0 col3\" >35.54%</td>\n",
       "    </tr>\n",
       "  </tbody>\n",
       "</table>\n"
      ],
      "text/plain": [
       "<pandas.io.formats.style.Styler at 0x289e4fe20>"
      ]
     },
     "metadata": {},
     "output_type": "display_data"
    }
   ],
   "source": [
    "strat_model = LinearRegression().fit(mkt,rt)\n",
    "rsq = strat_model.score(mkt,rt)\n",
    "alpha = strat_model.intercept_[0]\n",
    "beta = strat_model.coef_[0]\n",
    "resid = rt - strat_model.predict(mkt)\n",
    "info_ratio = alpha/resid.std()\n",
    "\n",
    "decomp = pd.DataFrame({'alpha': alpha*12, 'Info Ratio': info_ratio*np.sqrt(12), 'MKT': beta, 'r-squared': rsq})\n",
    "display(decomp.style.format('{:,.2%}'))"
   ]
  },
  {
   "cell_type": "markdown",
   "id": "736f7e49",
   "metadata": {},
   "source": [
    "**5. Suppose you wanted to hedge the timing strategy against movements in MKT. Based on the previous calculation, explain how to set up this hedge.**"
   ]
  },
  {
   "cell_type": "markdown",
   "id": "24bd5a1e",
   "metadata": {},
   "source": [
    "To hedge the strategy above, we would *short* 0.5186 units of the MKT for every unit of investment in the strategy. The optimal hedge ratio of 0.5186 is given by the beta of the regression"
   ]
  }
 ],
 "metadata": {
  "kernelspec": {
   "display_name": "Python 3 (ipykernel)",
   "language": "python",
   "name": "python3"
  },
  "language_info": {
   "codemirror_mode": {
    "name": "ipython",
    "version": 3
   },
   "file_extension": ".py",
   "mimetype": "text/x-python",
   "name": "python",
   "nbconvert_exporter": "python",
   "pygments_lexer": "ipython3",
   "version": "3.10.9"
  }
 },
 "nbformat": 4,
 "nbformat_minor": 5
}
