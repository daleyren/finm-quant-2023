{
 "cells": [
  {
   "cell_type": "code",
   "execution_count": 2,
   "metadata": {},
   "outputs": [],
   "source": [
    "import pandas as pd\n",
    "import numpy as np\n",
    "import matplotlib.pyplot as plt\n",
    "import seaborn as sns\n",
    "import statsmodels.api as sm"
   ]
  },
  {
   "attachments": {},
   "cell_type": "markdown",
   "metadata": {},
   "source": [
    "##  1 Return Analysis (25pts)\n",
    "1. (a) (5pts) For each of the 10assets, report the following annualized excess return statistics:\n",
    "• mean\n",
    "• volatility\n",
    "• Sharpe ratio"
   ]
  },
  {
   "cell_type": "code",
   "execution_count": 3,
   "metadata": {},
   "outputs": [],
   "source": [
    "assets = pd.read_excel(\n",
    "    './midterm_A_data-1.xlsx',\n",
    "    sheet_name='assets (excess)',  # Specify the sheet name\n",
    "    index_col=0,  # Set the index to the first column in the excel sheet\n",
    "    parse_dates=[\n",
    "        0\n",
    "    ],  # Parse the dates from the first column to turn them into datetime objects\n",
    ")"
   ]
  },
  {
   "cell_type": "code",
   "execution_count": 4,
   "metadata": {},
   "outputs": [
    {
     "data": {
      "text/html": [
       "<style type=\"text/css\">\n",
       "</style>\n",
       "<table id=\"T_6e922\">\n",
       "  <thead>\n",
       "    <tr>\n",
       "      <th class=\"blank level0\" >&nbsp;</th>\n",
       "      <th id=\"T_6e922_level0_col0\" class=\"col_heading level0 col0\" >Annualized_Mean</th>\n",
       "      <th id=\"T_6e922_level0_col1\" class=\"col_heading level0 col1\" >Annualized_Std</th>\n",
       "      <th id=\"T_6e922_level0_col2\" class=\"col_heading level0 col2\" >Annualized_Sharpe_Ratio</th>\n",
       "    </tr>\n",
       "  </thead>\n",
       "  <tbody>\n",
       "    <tr>\n",
       "      <th id=\"T_6e922_level0_row0\" class=\"row_heading level0 row0\" >NoDur</th>\n",
       "      <td id=\"T_6e922_row0_col0\" class=\"data row0 col0\" >0.087</td>\n",
       "      <td id=\"T_6e922_row0_col1\" class=\"data row0 col1\" >0.12</td>\n",
       "      <td id=\"T_6e922_row0_col2\" class=\"data row0 col2\" >0.69</td>\n",
       "    </tr>\n",
       "    <tr>\n",
       "      <th id=\"T_6e922_level0_row1\" class=\"row_heading level0 row1\" >Utils</th>\n",
       "      <td id=\"T_6e922_row1_col0\" class=\"data row1 col0\" >0.092</td>\n",
       "      <td id=\"T_6e922_row1_col1\" class=\"data row1 col1\" >0.15</td>\n",
       "      <td id=\"T_6e922_row1_col2\" class=\"data row1 col2\" >0.63</td>\n",
       "    </tr>\n",
       "    <tr>\n",
       "      <th id=\"T_6e922_level0_row2\" class=\"row_heading level0 row2\" >Hlth</th>\n",
       "      <td id=\"T_6e922_row2_col0\" class=\"data row2 col0\" >0.079</td>\n",
       "      <td id=\"T_6e922_row2_col1\" class=\"data row2 col1\" >0.14</td>\n",
       "      <td id=\"T_6e922_row2_col2\" class=\"data row2 col2\" >0.55</td>\n",
       "    </tr>\n",
       "    <tr>\n",
       "      <th id=\"T_6e922_level0_row3\" class=\"row_heading level0 row3\" >Shops</th>\n",
       "      <td id=\"T_6e922_row3_col0\" class=\"data row3 col0\" >0.083</td>\n",
       "      <td id=\"T_6e922_row3_col1\" class=\"data row3 col1\" >0.16</td>\n",
       "      <td id=\"T_6e922_row3_col2\" class=\"data row3 col2\" >0.53</td>\n",
       "    </tr>\n",
       "    <tr>\n",
       "      <th id=\"T_6e922_level0_row4\" class=\"row_heading level0 row4\" >Manuf</th>\n",
       "      <td id=\"T_6e922_row4_col0\" class=\"data row4 col0\" >0.087</td>\n",
       "      <td id=\"T_6e922_row4_col1\" class=\"data row4 col1\" >0.17</td>\n",
       "      <td id=\"T_6e922_row4_col2\" class=\"data row4 col2\" >0.5</td>\n",
       "    </tr>\n",
       "    <tr>\n",
       "      <th id=\"T_6e922_level0_row5\" class=\"row_heading level0 row5\" >Enrgy</th>\n",
       "      <td id=\"T_6e922_row5_col0\" class=\"data row5 col0\" >0.1</td>\n",
       "      <td id=\"T_6e922_row5_col1\" class=\"data row5 col1\" >0.25</td>\n",
       "      <td id=\"T_6e922_row5_col2\" class=\"data row5 col2\" >0.41</td>\n",
       "    </tr>\n",
       "    <tr>\n",
       "      <th id=\"T_6e922_level0_row6\" class=\"row_heading level0 row6\" >Durbl</th>\n",
       "      <td id=\"T_6e922_row6_col0\" class=\"data row6 col0\" >0.11</td>\n",
       "      <td id=\"T_6e922_row6_col1\" class=\"data row6 col1\" >0.3</td>\n",
       "      <td id=\"T_6e922_row6_col2\" class=\"data row6 col2\" >0.36</td>\n",
       "    </tr>\n",
       "    <tr>\n",
       "      <th id=\"T_6e922_level0_row7\" class=\"row_heading level0 row7\" >Other</th>\n",
       "      <td id=\"T_6e922_row7_col0\" class=\"data row7 col0\" >0.066</td>\n",
       "      <td id=\"T_6e922_row7_col1\" class=\"data row7 col1\" >0.18</td>\n",
       "      <td id=\"T_6e922_row7_col2\" class=\"data row7 col2\" >0.36</td>\n",
       "    </tr>\n",
       "    <tr>\n",
       "      <th id=\"T_6e922_level0_row8\" class=\"row_heading level0 row8\" >HiTec</th>\n",
       "      <td id=\"T_6e922_row8_col0\" class=\"data row8 col0\" >0.072</td>\n",
       "      <td id=\"T_6e922_row8_col1\" class=\"data row8 col1\" >0.24</td>\n",
       "      <td id=\"T_6e922_row8_col2\" class=\"data row8 col2\" >0.3</td>\n",
       "    </tr>\n",
       "    <tr>\n",
       "      <th id=\"T_6e922_level0_row9\" class=\"row_heading level0 row9\" >Telcm</th>\n",
       "      <td id=\"T_6e922_row9_col0\" class=\"data row9 col0\" >0.023</td>\n",
       "      <td id=\"T_6e922_row9_col1\" class=\"data row9 col1\" >0.18</td>\n",
       "      <td id=\"T_6e922_row9_col2\" class=\"data row9 col2\" >0.13</td>\n",
       "    </tr>\n",
       "  </tbody>\n",
       "</table>\n"
      ],
      "text/plain": [
       "<pandas.io.formats.style.Styler at 0x17695a440>"
      ]
     },
     "execution_count": 4,
     "metadata": {},
     "output_type": "execute_result"
    }
   ],
   "source": [
    "mean_vol_table = assets.describe().loc[['mean','std']].transpose()\n",
    "mean_vol_table['Annualized_Mean'], mean_vol_table['Annualized_Std'] = mean_vol_table['mean'] * 12, mean_vol_table['std'] * (12**0.5)\n",
    "mean_vol_table[['Annualized_Mean','Annualized_Std']].style.format('{:,.2%}')\n",
    "mean_vol_table['Annualized_Sharpe_Ratio'] = mean_vol_table['Annualized_Mean']/mean_vol_table['Annualized_Std']\n",
    "mean_vol_table_print = mean_vol_table.sort_values('Annualized_Sharpe_Ratio', ascending = False)\n",
    "\n",
    "\n",
    "mean_vol_table_print[['Annualized_Mean','Annualized_Std', 'Annualized_Sharpe_Ratio']].style.format(\"{:.2}\")"
   ]
  },
  {
   "attachments": {},
   "cell_type": "markdown",
   "metadata": {},
   "source": [
    "  (b) (2pts) Which asset has the\n",
    "• highest mean return?\n",
    "• highest Sharpe ratio?\n"
   ]
  },
  {
   "cell_type": "code",
   "execution_count": 24,
   "metadata": {},
   "outputs": [
    {
     "name": "stdout",
     "output_type": "stream",
     "text": [
      "Index(['Best Sharpe Ratio: 0.69 for NoDur'], dtype='object')\n",
      "Index(['Best Sharpe Ratio: 0.13 for Telcm'], dtype='object')\n"
     ]
    }
   ],
   "source": [
    "print('Best Sharpe Ratio: '+ str(round(mean_vol_table_print.iloc[[0]].Annualized_Sharpe_Ratio[0], 2)) + ' for ' + mean_vol_table_print.iloc[[0]].index)\n",
    "print('Best Sharpe Ratio: '+ str(round(mean_vol_table_print.iloc[[-1]].Annualized_Sharpe_Ratio[0], 2)) + ' for ' + mean_vol_table_print.iloc[[-1]].index)\n"
   ]
  },
  {
   "attachments": {},
   "cell_type": "markdown",
   "metadata": {},
   "source": [
    "2. (5pts) For each of the 10assets, report the following statistics (no annualization needed).\n",
    "\n",
    "• VaR (0.05). That is to say, the 5th quantile of returns.\n",
    "\n",
    "• CVaR (0.05). That is to say, the average of the returns less than the 5th quantile.\n",
    "\n",
    "• maximum drawdown1 Though we usually calculate maximum drawdown on total returns,\n",
    "keep things simple and just continue to use the excess returns we’re already using in all\n",
    "the other problems."
   ]
  },
  {
   "cell_type": "code",
   "execution_count": 29,
   "metadata": {},
   "outputs": [
    {
     "data": {
      "text/html": [
       "<style type=\"text/css\">\n",
       "</style>\n",
       "<table id=\"T_ee700\">\n",
       "  <thead>\n",
       "    <tr>\n",
       "      <th class=\"blank level0\" >&nbsp;</th>\n",
       "      <th id=\"T_ee700_level0_col0\" class=\"col_heading level0 col0\" >VaR (0.05)</th>\n",
       "      <th id=\"T_ee700_level0_col1\" class=\"col_heading level0 col1\" >CVaR (0.05)</th>\n",
       "      <th id=\"T_ee700_level0_col2\" class=\"col_heading level0 col2\" >Max Drawdown</th>\n",
       "    </tr>\n",
       "  </thead>\n",
       "  <tbody>\n",
       "    <tr>\n",
       "      <th id=\"T_ee700_level0_row0\" class=\"row_heading level0 row0\" >NoDur</th>\n",
       "      <td id=\"T_ee700_row0_col0\" class=\"data row0 col0\" >-0.057</td>\n",
       "      <td id=\"T_ee700_row0_col1\" class=\"data row0 col1\" >-0.08</td>\n",
       "      <td id=\"T_ee700_row0_col2\" class=\"data row0 col2\" >-0.35</td>\n",
       "    </tr>\n",
       "    <tr>\n",
       "      <th id=\"T_ee700_level0_row1\" class=\"row_heading level0 row1\" >Durbl</th>\n",
       "      <td id=\"T_ee700_row1_col0\" class=\"data row1 col0\" >-0.12</td>\n",
       "      <td id=\"T_ee700_row1_col1\" class=\"data row1 col1\" >-0.16</td>\n",
       "      <td id=\"T_ee700_row1_col2\" class=\"data row1 col2\" >-0.77</td>\n",
       "    </tr>\n",
       "    <tr>\n",
       "      <th id=\"T_ee700_level0_row2\" class=\"row_heading level0 row2\" >Manuf</th>\n",
       "      <td id=\"T_ee700_row2_col0\" class=\"data row2 col0\" >-0.085</td>\n",
       "      <td id=\"T_ee700_row2_col1\" class=\"data row2 col1\" >-0.12</td>\n",
       "      <td id=\"T_ee700_row2_col2\" class=\"data row2 col2\" >-0.55</td>\n",
       "    </tr>\n",
       "    <tr>\n",
       "      <th id=\"T_ee700_level0_row3\" class=\"row_heading level0 row3\" >Enrgy</th>\n",
       "      <td id=\"T_ee700_row3_col0\" class=\"data row3 col0\" >-0.11</td>\n",
       "      <td id=\"T_ee700_row3_col1\" class=\"data row3 col1\" >-0.15</td>\n",
       "      <td id=\"T_ee700_row3_col2\" class=\"data row3 col2\" >-0.66</td>\n",
       "    </tr>\n",
       "    <tr>\n",
       "      <th id=\"T_ee700_level0_row4\" class=\"row_heading level0 row4\" >HiTec</th>\n",
       "      <td id=\"T_ee700_row4_col0\" class=\"data row4 col0\" >-0.12</td>\n",
       "      <td id=\"T_ee700_row4_col1\" class=\"data row4 col1\" >-0.16</td>\n",
       "      <td id=\"T_ee700_row4_col2\" class=\"data row4 col2\" >-0.81</td>\n",
       "    </tr>\n",
       "    <tr>\n",
       "      <th id=\"T_ee700_level0_row5\" class=\"row_heading level0 row5\" >Telcm</th>\n",
       "      <td id=\"T_ee700_row5_col0\" class=\"data row5 col0\" >-0.095</td>\n",
       "      <td id=\"T_ee700_row5_col1\" class=\"data row5 col1\" >-0.12</td>\n",
       "      <td id=\"T_ee700_row5_col2\" class=\"data row5 col2\" >-0.77</td>\n",
       "    </tr>\n",
       "    <tr>\n",
       "      <th id=\"T_ee700_level0_row6\" class=\"row_heading level0 row6\" >Shops</th>\n",
       "      <td id=\"T_ee700_row6_col0\" class=\"data row6 col0\" >-0.075</td>\n",
       "      <td id=\"T_ee700_row6_col1\" class=\"data row6 col1\" >-0.097</td>\n",
       "      <td id=\"T_ee700_row6_col2\" class=\"data row6 col2\" >-0.41</td>\n",
       "    </tr>\n",
       "    <tr>\n",
       "      <th id=\"T_ee700_level0_row7\" class=\"row_heading level0 row7\" >Hlth</th>\n",
       "      <td id=\"T_ee700_row7_col0\" class=\"data row7 col0\" >-0.072</td>\n",
       "      <td id=\"T_ee700_row7_col1\" class=\"data row7 col1\" >-0.088</td>\n",
       "      <td id=\"T_ee700_row7_col2\" class=\"data row7 col2\" >-0.43</td>\n",
       "    </tr>\n",
       "    <tr>\n",
       "      <th id=\"T_ee700_level0_row8\" class=\"row_heading level0 row8\" >Utils</th>\n",
       "      <td id=\"T_ee700_row8_col0\" class=\"data row8 col0\" >-0.065</td>\n",
       "      <td id=\"T_ee700_row8_col1\" class=\"data row8 col1\" >-0.097</td>\n",
       "      <td id=\"T_ee700_row8_col2\" class=\"data row8 col2\" >-0.39</td>\n",
       "    </tr>\n",
       "    <tr>\n",
       "      <th id=\"T_ee700_level0_row9\" class=\"row_heading level0 row9\" >Other</th>\n",
       "      <td id=\"T_ee700_row9_col0\" class=\"data row9 col0\" >-0.084</td>\n",
       "      <td id=\"T_ee700_row9_col1\" class=\"data row9 col1\" >-0.13</td>\n",
       "      <td id=\"T_ee700_row9_col2\" class=\"data row9 col2\" >-0.7</td>\n",
       "    </tr>\n",
       "  </tbody>\n",
       "</table>\n"
      ],
      "text/plain": [
       "<pandas.io.formats.style.Styler at 0x28b165450>"
      ]
     },
     "execution_count": 29,
     "metadata": {},
     "output_type": "execute_result"
    }
   ],
   "source": [
    "vars = {}\n",
    "vars[\"VaR (0.05)\"] = assets.quantile(0.05, axis=0)\n",
    "vars[\"CVaR (0.05)\"] = assets[assets <= assets.quantile(0.05, axis=0)].mean()\n",
    "\n",
    "# Cumulative returns on $1000\n",
    "wealth_index = 1000 * (1 + assets).cumprod()\n",
    "previous_peaks = wealth_index.cummax()\n",
    "# Biggest difference between cumulative max and your current wealth\n",
    "drawdowns = (wealth_index - previous_peaks) / previous_peaks\n",
    "vars[\"Max Drawdown\"] = drawdowns.min()\n",
    "\n",
    "summary = pd.DataFrame(vars)\n",
    "\n",
    "summary.style.format(\"{:.2}\")\n"
   ]
  },
  {
   "attachments": {},
   "cell_type": "markdown",
   "metadata": {},
   "source": [
    "3. (5pts) Which pair of assets has the highest correlation? And the smallest correlation?"
   ]
  },
  {
   "cell_type": "code",
   "execution_count": 31,
   "metadata": {},
   "outputs": [
    {
     "name": "stdout",
     "output_type": "stream",
     "text": [
      "Pair of assets with highest correlation: ('Manuf', 'Other')\n",
      "Pair of assets with lowest correlation: ('Utils', 'HiTec')\n",
      "NoDur    0.692800\n",
      "Utils    0.630286\n",
      "Hlth     0.552768\n",
      "Shops    0.527238\n",
      "Manuf    0.501601\n",
      "Enrgy    0.405560\n",
      "Durbl    0.356946\n",
      "Other    0.355806\n",
      "HiTec    0.304457\n",
      "Telcm    0.129119\n",
      "Name: Annualized_Sharpe_Ratio, dtype: float64\n"
     ]
    },
    {
     "data": {
      "image/png": "[encoded data removed]",
      "text/plain": [
       "<Figure size 1000x800 with 2 Axes>"
      ]
     },
     "metadata": {},
     "output_type": "display_data"
    }
   ],
   "source": [
    "corrmat = assets.corr()\n",
    "corrmat[corrmat==1] = None\n",
    "corr_rank = abs(corrmat.unstack()).sort_values(ascending = False).dropna()\n",
    "print('Pair of assets with highest correlation: ' + str(corr_rank.index[1]))\n",
    "print('Pair of assets with lowest correlation: ' + str(corr_rank.index[-1]))\n",
    "print(mean_vol_table_print['Annualized_Sharpe_Ratio'])\n",
    "# print(mean_vol_table_print['Annualized_Sharpe_Ratio'].describe().loc[['mean']])\n",
    "plt.figure(figsize=(10,8))\n",
    "sns.heatmap(corrmat)\n",
    "plt.show()"
   ]
  }
 ],
 "metadata": {
  "kernelspec": {
   "display_name": "Python 3",
   "language": "python",
   "name": "python3"
  },
  "language_info": {
   "codemirror_mode": {
    "name": "ipython",
    "version": 3
   },
   "file_extension": ".py",
   "mimetype": "text/x-python",
   "name": "python",
   "nbconvert_exporter": "python",
   "pygments_lexer": "ipython3",
   "version": "3.10.9"
  },
  "orig_nbformat": 4
 },
 "nbformat": 4,
 "nbformat_minor": 2
}
