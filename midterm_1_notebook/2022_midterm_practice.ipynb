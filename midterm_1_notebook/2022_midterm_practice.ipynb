{
 "cells": [
  {
   "cell_type": "code",
   "execution_count": 140,
   "metadata": {},
   "outputs": [],
   "source": [
    "import pandas as pd\n",
    "import numpy as np\n",
    "import matplotlib.pyplot as plt\n",
    "import seaborn as sns\n",
    "import statsmodels.api as sm\n",
    "from sklearn.linear_model import LinearRegression\n",
    "import sys\n",
    "\n",
    "sys.path.append(\"../cmds\")\n",
    "from utils import (\n",
    "    calc_univariate_regression,\n",
    "    calc_iterative_regression,\n",
    "    calc_performance_metrics\n",
    ")\n",
    "\n",
    "\n",
    "# Plotting settings.\n",
    "plt.rcParams[\"axes.grid\"] = True\n",
    "plt.rcParams[\"axes.spines.right\"] = False\n",
    "plt.rcParams[\"axes.spines.top\"] = False\n",
    "\n",
    "# Pandas settings.\n",
    "pd.set_option(\"display.float_format\", lambda x: \"{:.4f}\".format(x))\n",
    "\n",
    "# Constants for risk metrics, return metrics, and annualization.\n",
    "RETURN_COLS = [\"Annualized Return\", \"Annualized Volatility\", \"Annualized Sharpe Ratio\"]\n",
    "RISK_COLS = [\n",
    "    \"Skewness\",\n",
    "    \"Excess Kurtosis\",\n",
    "    \"VaR (0.05)\",\n",
    "    \"CVaR (0.05)\",\n",
    "    \"Max Drawdown\",\n",
    "    \"Bottom\",\n",
    "    \"Peak\",\n",
    "    \"Recovery\",\n",
    "    \"Duration (days)\",\n",
    "]\n",
    "ADJ = 12\n",
    "\n",
    "\n",
    "def calc_return_metrics(data, as_df=False, adj=12):\n",
    "    \"\"\"\n",
    "    Calculate return metrics for a given dataset. Specifically:\n",
    "    - Annualized Return\n",
    "    - Annualized Volatility\n",
    "    - Annualized Sharpe Ratio\n",
    "    - Annualized Sortino Ratio (not part of the course, but useful to know)\n",
    "\n",
    "    Args:\n",
    "        data : Returns time series.\n",
    "        as_df (bool, optional): Return a df or dict. Defaults to False.\n",
    "        adj (int, optional): Annualization. Defaults to 12.\n",
    "\n",
    "    Returns:\n",
    "        DataFrame or dict: Summary of return metrics.\n",
    "    \"\"\"\n",
    "    summary = dict()\n",
    "    summary[\"Annualized Return\"] = data.mean() * adj\n",
    "    summary[\"Annualized Volatility\"] = data.std() * np.sqrt(adj)\n",
    "    summary[\"Annualized Sharpe Ratio\"] = (\n",
    "        summary[\"Annualized Return\"] / summary[\"Annualized Volatility\"]\n",
    "    )\n",
    "    summary[\"Annualized Sortino Ratio\"] = (\n",
    "        summary[\"Annualized Return\"] * np.sqrt(adj) / (data[data < 0].std())\n",
    "    )\n",
    "\n",
    "    # Here, we use what is known as a \"ternary operator\", usually denoted as \"condition ? if_true : if_false\",\n",
    "    # in other programming languages. This is equivalent to having an explicit if-else statement, but is more\n",
    "    # concise and can be written on a single line.\n",
    "    return pd.DataFrame(summary, index=data.columns) if as_df else summary"
   ]
  },
  {
   "attachments": {},
   "cell_type": "markdown",
   "metadata": {},
   "source": [
    "# Mean Variance Portfolio Functions"
   ]
  },
  {
   "cell_type": "code",
   "execution_count": 111,
   "metadata": {},
   "outputs": [],
   "source": [
    "def tan_portfolio(mean_rets, cov_matrix):\n",
    "    \"\"\"\n",
    "    Function to calculate tangency portfolio weights. Comes from the\n",
    "    formula seen in class (Week 1).\n",
    "\n",
    "    Args:\n",
    "        mean_rets: Vector of mean returns.\n",
    "        cov_matrix: Covariance matrix of returns.\n",
    "\n",
    "    Returns:\n",
    "        Vector of tangency portfolio weights.\n",
    "    \"\"\"\n",
    "    inv_cov = np.linalg.inv(cov_matrix)\n",
    "    ones = np.ones(mean_rets.shape)\n",
    "    return (inv_cov @ mean_rets) / (ones.T @ inv_cov @ mean_rets)\n",
    "\n",
    "\n",
    "def gmv_portfolio(cov_matrix):\n",
    "    \"\"\"\n",
    "    Function to calculate the weights of the global minimum variance portfolio.\n",
    "\n",
    "    Args:\n",
    "        cov_matrix : Covariance matrix of returns.\n",
    "\n",
    "    Returns:\n",
    "        Vector of GMV portfolio weights.\n",
    "    \"\"\"\n",
    "    try:\n",
    "        cov_inv = np.linalg.inv(cov_matrix)\n",
    "    except TypeError:\n",
    "        cov_inv = np.linalg.inv(np.array(cov_matrix))\n",
    "\n",
    "    one_vector = np.ones(len(cov_matrix.index))\n",
    "    return cov_inv @ one_vector / (one_vector @ cov_inv @ (one_vector))\n",
    "\n",
    "\n",
    "def mv_portfolio(mean_rets, cov_matrix, target=None):\n",
    "    \"\"\"\n",
    "    Function to calculate the weights of the mean-variance portfolio. If\n",
    "    target is not specified, then the function will return the tangency portfolio.\n",
    "    If target is specified, then we return the MV-efficient portfolio with the target\n",
    "    return.\n",
    "\n",
    "    Args:\n",
    "        mean_rets : Vector of mean returns.\n",
    "        cov_matrix : Covariance matrix of returns.\n",
    "        target (optional):  Target mean return. Defaults to None. Note: must be adjusted for\n",
    "                            annualization the same time-frequency as the mean returns. If the\n",
    "                            mean returns are monthly, the target must be monthly as well.\n",
    "\n",
    "    Returns:\n",
    "        Vector of MV portfolio weights.\n",
    "    \"\"\"\n",
    "    w_tan = tan_portfolio(mean_rets, cov_matrix)\n",
    "\n",
    "    if target is None:\n",
    "        return w_tan\n",
    "\n",
    "    w_gmv = gmv_portfolio(cov_matrix)\n",
    "    delta = (target - mean_rets @ w_gmv) / (mean_rets @ w_tan - mean_rets @ w_gmv)\n",
    "    return delta * w_tan + (1 - delta) * w_gmv"
   ]
  },
  {
   "attachments": {},
   "cell_type": "markdown",
   "metadata": {},
   "source": [
    "# OLS Formulas/Functions"
   ]
  },
  {
   "cell_type": "code",
   "execution_count": 112,
   "metadata": {},
   "outputs": [],
   "source": [
    "def performanceMetrics(returns,annualization=1, quantile=.05):\n",
    "    metrics = pd.DataFrame(index=returns.columns)\n",
    "    metrics['Mean'] = returns.mean() * annualization\n",
    "    metrics['Vol'] = returns.std() * np.sqrt(annualization)\n",
    "    metrics['Sharpe'] = (returns.mean() / returns.std()) * np.sqrt(annualization)\n",
    "\n",
    "    metrics['Min'] = returns.min()\n",
    "    metrics['Max'] = returns.max()\n",
    "    return metrics\n",
    "\n",
    "def tailMetrics(returns, quantile=.05, relative=False, mdd=True):\n",
    "    \n",
    "    #Maximum Drawdown\n",
    "    def maximumDrawdown(returns):\n",
    "        cum_returns = (1 + returns).cumprod()\n",
    "        rolling_max = cum_returns.cummax()\n",
    "        drawdown = (cum_returns - rolling_max) / rolling_max\n",
    "\n",
    "        max_drawdown = drawdown.min()\n",
    "        end_date = drawdown.idxmin()\n",
    "        summary = pd.DataFrame({'Max Drawdown': max_drawdown, 'Bottom': end_date})\n",
    "\n",
    "        for col in drawdown:\n",
    "            summary.loc[col,'Peak'] = (rolling_max.loc[:end_date[col],col]).idxmax()\n",
    "            recovery = (drawdown.loc[end_date[col]:,col])\n",
    "            try:\n",
    "                summary.loc[col,'Recover'] = pd.to_datetime(recovery[recovery >= 0].index[0])\n",
    "            except:\n",
    "                summary.loc[col,'Recover'] = pd.to_datetime(None)\n",
    "\n",
    "            summary['Peak'] = pd.to_datetime(summary['Peak'])\n",
    "            try:\n",
    "                summary['Duration (to Recover)'] = (summary['Recover'] - summary['Peak'])\n",
    "            except:\n",
    "                summary['Duration (to Recover)'] = None\n",
    "\n",
    "            summary = summary[['Max Drawdown','Peak','Bottom','Recover','Duration (to Recover)']]\n",
    "\n",
    "        return summary  \n",
    "    \n",
    "    metrics = pd.DataFrame(index=returns.columns)\n",
    "    metrics['Skewness'] = returns.skew()\n",
    "    metrics['Kurtosis'] = returns.kurtosis()\n",
    "\n",
    "    VaR = returns.quantile(quantile)\n",
    "    CVaR = (returns[returns < returns.quantile(quantile)]).mean()\n",
    "\n",
    "    if relative:\n",
    "        VaR = (VaR - returns.mean())/returns.std()\n",
    "        CVaR = (CVaR - returns.mean())/returns.std()\n",
    "\n",
    "    metrics[f'VaR ({quantile})'] = VaR\n",
    "    metrics[f'CVaR ({quantile})'] = CVaR\n",
    "\n",
    "    if mdd:\n",
    "        mdd_stats = maximumDrawdown(returns)\n",
    "        metrics = metrics.join(mdd_stats)\n",
    "\n",
    "        if relative:\n",
    "            metrics['Max Drawdown'] = (metrics['Max Drawdown'] - returns.mean())/returns.std()\n",
    "\n",
    "    return metrics\n",
    "\n",
    "\n",
    "def get_ols_metrics(regressors, targets, annualization=1, ignorenan=True):\n",
    "    # ensure regressors and targets are pandas dataframes, as expected\n",
    "    if not isinstance(regressors, pd.DataFrame):\n",
    "        regressors = regressors.to_frame()\n",
    "    if not isinstance(targets, pd.DataFrame):\n",
    "        targets = targets.to_frame()\n",
    "\n",
    "    # align the targets and regressors on the same dates\n",
    "    df_aligned = targets.join(regressors, how='inner', lsuffix='y ')\n",
    "    Y = df_aligned[targets.columns]\n",
    "    Xset = df_aligned[regressors.columns]\n",
    "\n",
    "    reg = pd.DataFrame(index=targets.columns)\n",
    "    for col in Y.columns:\n",
    "        y = Y[col]\n",
    "        \n",
    "        if ignorenan:\n",
    "            # ensure we use only non-NaN dates\n",
    "            alldata = Xset.join(y,lsuffix='X')\n",
    "            mask = alldata.notnull().all(axis=1)\n",
    "            y = y[mask]\n",
    "            X = Xset[mask]\n",
    "        else:\n",
    "            X = Xset\n",
    "\n",
    "        model = LinearRegression().fit(X, y)\n",
    "        reg.loc[col, 'alpha'] = model.intercept_ * annualization\n",
    "        reg.loc[col, regressors.columns] = model.coef_\n",
    "        reg.loc[col, 'r-squared'] = model.score(X, y)\n",
    "\n",
    "        # sklearn does not return the residuals, so we need to build them\n",
    "        yfit = model.predict(X)\n",
    "        residuals = y - yfit\n",
    "\n",
    "        # Treynor Ratio is only defined for univariate regression\n",
    "        if Xset.shape[1] == 1:\n",
    "            reg.loc[col,'Treynor Ratio'] = (y.mean() / model.coef_) * annualization\n",
    "\n",
    "        \n",
    "        # if intercept =0, numerical roundoff will nonetheless show nonzero Info Ratio\n",
    "        num_roundoff = 1e-12\n",
    "        if np.abs(model.intercept_) < num_roundoff:\n",
    "            reg.loc[col, 'Info Ratio'] = None\n",
    "        else:\n",
    "            reg.loc[col, 'Info Ratio'] = (model.intercept_ / residuals.std()) * np.sqrt(annualization)\n",
    "\n",
    "    return reg\n",
    "\n",
    "def tangency_portfolio(data):\n",
    "    mu = data.mean()\n",
    "    sigma = np.linalg.inv(data.cov())\n",
    "    one_vector = np.ones(len(data.columns))\n",
    "    return sigma @ mu / (one_vector @ sigma @ mu)\n",
    "\n",
    "def tangency_portfolio_allocation(data, target_return = 0.01):\n",
    "    mu = data.mean()\n",
    "    sigma = np.linalg.inv(data.cov())\n",
    "    one_vector = np.ones(len(data.columns))\n",
    "    tan_wts = tangency_portfolio(data)\n",
    "    return ((one_vector @ sigma @ mu) / (mu @ sigma @ mu)) * target_return "
   ]
  },
  {
   "attachments": {},
   "cell_type": "markdown",
   "metadata": {},
   "source": [
    "##  1 Return Analysis (25pts)\n",
    "1. (a) (5pts) For each of the 10assets, report the following annualized excess return statistics:\n",
    "• mean\n",
    "• volatility\n",
    "• Sharpe ratio"
   ]
  },
  {
   "cell_type": "code",
   "execution_count": 113,
   "metadata": {},
   "outputs": [],
   "source": [
    "factors = pd.read_excel('./midterm_A_data-1.xlsx', 0).set_index('Date')\n",
    "assets = pd.read_excel('./midterm_A_data-1.xlsx', 1).set_index('Date')\n",
    "risk_free = pd.read_excel('./midterm_A_data-1.xlsx', 2).set_index('Date')"
   ]
  },
  {
   "cell_type": "code",
   "execution_count": 114,
   "metadata": {},
   "outputs": [
    {
     "data": {
      "text/html": [
       "<style type=\"text/css\">\n",
       "</style>\n",
       "<table id=\"T_3399e\">\n",
       "  <thead>\n",
       "    <tr>\n",
       "      <th class=\"blank level0\" >&nbsp;</th>\n",
       "      <th id=\"T_3399e_level0_col0\" class=\"col_heading level0 col0\" >Annualized_Mean</th>\n",
       "      <th id=\"T_3399e_level0_col1\" class=\"col_heading level0 col1\" >Annualized_Std</th>\n",
       "      <th id=\"T_3399e_level0_col2\" class=\"col_heading level0 col2\" >Annualized_Sharpe_Ratio</th>\n",
       "    </tr>\n",
       "  </thead>\n",
       "  <tbody>\n",
       "    <tr>\n",
       "      <th id=\"T_3399e_level0_row0\" class=\"row_heading level0 row0\" >NoDur</th>\n",
       "      <td id=\"T_3399e_row0_col0\" class=\"data row0 col0\" >8.66%</td>\n",
       "      <td id=\"T_3399e_row0_col1\" class=\"data row0 col1\" >12.49%</td>\n",
       "      <td id=\"T_3399e_row0_col2\" class=\"data row0 col2\" >69.28%</td>\n",
       "    </tr>\n",
       "    <tr>\n",
       "      <th id=\"T_3399e_level0_row1\" class=\"row_heading level0 row1\" >Durbl</th>\n",
       "      <td id=\"T_3399e_row1_col0\" class=\"data row1 col0\" >10.73%</td>\n",
       "      <td id=\"T_3399e_row1_col1\" class=\"data row1 col1\" >30.07%</td>\n",
       "      <td id=\"T_3399e_row1_col2\" class=\"data row1 col2\" >35.69%</td>\n",
       "    </tr>\n",
       "    <tr>\n",
       "      <th id=\"T_3399e_level0_row2\" class=\"row_heading level0 row2\" >Manuf</th>\n",
       "      <td id=\"T_3399e_row2_col0\" class=\"data row2 col0\" >8.71%</td>\n",
       "      <td id=\"T_3399e_row2_col1\" class=\"data row2 col1\" >17.37%</td>\n",
       "      <td id=\"T_3399e_row2_col2\" class=\"data row2 col2\" >50.16%</td>\n",
       "    </tr>\n",
       "    <tr>\n",
       "      <th id=\"T_3399e_level0_row3\" class=\"row_heading level0 row3\" >Enrgy</th>\n",
       "      <td id=\"T_3399e_row3_col0\" class=\"data row3 col0\" >9.98%</td>\n",
       "      <td id=\"T_3399e_row3_col1\" class=\"data row3 col1\" >24.60%</td>\n",
       "      <td id=\"T_3399e_row3_col2\" class=\"data row3 col2\" >40.56%</td>\n",
       "    </tr>\n",
       "    <tr>\n",
       "      <th id=\"T_3399e_level0_row4\" class=\"row_heading level0 row4\" >HiTec</th>\n",
       "      <td id=\"T_3399e_row4_col0\" class=\"data row4 col0\" >7.24%</td>\n",
       "      <td id=\"T_3399e_row4_col1\" class=\"data row4 col1\" >23.77%</td>\n",
       "      <td id=\"T_3399e_row4_col2\" class=\"data row4 col2\" >30.45%</td>\n",
       "    </tr>\n",
       "    <tr>\n",
       "      <th id=\"T_3399e_level0_row5\" class=\"row_heading level0 row5\" >Telcm</th>\n",
       "      <td id=\"T_3399e_row5_col0\" class=\"data row5 col0\" >2.35%</td>\n",
       "      <td id=\"T_3399e_row5_col1\" class=\"data row5 col1\" >18.19%</td>\n",
       "      <td id=\"T_3399e_row5_col2\" class=\"data row5 col2\" >12.91%</td>\n",
       "    </tr>\n",
       "    <tr>\n",
       "      <th id=\"T_3399e_level0_row6\" class=\"row_heading level0 row6\" >Shops</th>\n",
       "      <td id=\"T_3399e_row6_col0\" class=\"data row6 col0\" >8.33%</td>\n",
       "      <td id=\"T_3399e_row6_col1\" class=\"data row6 col1\" >15.81%</td>\n",
       "      <td id=\"T_3399e_row6_col2\" class=\"data row6 col2\" >52.72%</td>\n",
       "    </tr>\n",
       "    <tr>\n",
       "      <th id=\"T_3399e_level0_row7\" class=\"row_heading level0 row7\" >Hlth</th>\n",
       "      <td id=\"T_3399e_row7_col0\" class=\"data row7 col0\" >7.86%</td>\n",
       "      <td id=\"T_3399e_row7_col1\" class=\"data row7 col1\" >14.23%</td>\n",
       "      <td id=\"T_3399e_row7_col2\" class=\"data row7 col2\" >55.28%</td>\n",
       "    </tr>\n",
       "    <tr>\n",
       "      <th id=\"T_3399e_level0_row8\" class=\"row_heading level0 row8\" >Utils</th>\n",
       "      <td id=\"T_3399e_row8_col0\" class=\"data row8 col0\" >9.16%</td>\n",
       "      <td id=\"T_3399e_row8_col1\" class=\"data row8 col1\" >14.53%</td>\n",
       "      <td id=\"T_3399e_row8_col2\" class=\"data row8 col2\" >63.03%</td>\n",
       "    </tr>\n",
       "    <tr>\n",
       "      <th id=\"T_3399e_level0_row9\" class=\"row_heading level0 row9\" >Other</th>\n",
       "      <td id=\"T_3399e_row9_col0\" class=\"data row9 col0\" >6.56%</td>\n",
       "      <td id=\"T_3399e_row9_col1\" class=\"data row9 col1\" >18.44%</td>\n",
       "      <td id=\"T_3399e_row9_col2\" class=\"data row9 col2\" >35.58%</td>\n",
       "    </tr>\n",
       "  </tbody>\n",
       "</table>\n"
      ],
      "text/plain": [
       "<pandas.io.formats.style.Styler at 0x28ccc1420>"
      ]
     },
     "execution_count": 114,
     "metadata": {},
     "output_type": "execute_result"
    }
   ],
   "source": [
    "mean_vol_table = assets.describe().loc[['mean','std']].transpose()\n",
    "mean_vol_table['Annualized_Mean'], mean_vol_table['Annualized_Std'] = mean_vol_table['mean'] * 12, mean_vol_table['std'] * (12**0.5)\n",
    "mean_vol_table['Annualized_Sharpe_Ratio'] = mean_vol_table['Annualized_Mean']/mean_vol_table['Annualized_Std']\n",
    "mean_vol_table_print = mean_vol_table.sort_values('Annualized_Sharpe_Ratio', ascending = False)\n",
    "\n",
    "\n",
    "# mean_vol_table_print[['Annualized_Mean','Annualized_Std', 'Annualized_Sharpe_Ratio']].style.format(\"{:.2}\")\n",
    "mean_vol_table[['Annualized_Mean','Annualized_Std', 'Annualized_Sharpe_Ratio']].style.format('{:,.2%}')\n"
   ]
  },
  {
   "attachments": {},
   "cell_type": "markdown",
   "metadata": {},
   "source": [
    "  (b) (2pts) Which asset has the\n",
    "• highest mean return?\n",
    "• highest Sharpe ratio?\n"
   ]
  },
  {
   "cell_type": "code",
   "execution_count": 115,
   "metadata": {},
   "outputs": [
    {
     "name": "stdout",
     "output_type": "stream",
     "text": [
      "Asset with Max Mean Return: Durbl\n",
      "Index(['Best Sharpe Ratio: 0.69 for NoDur'], dtype='object')\n",
      "Index(['Worst Sharpe Ratio: 0.13 for Telcm'], dtype='object')\n"
     ]
    }
   ],
   "source": [
    "print('Asset with Max Mean Return: {}'.format(mean_vol_table.Annualized_Mean.idxmax()))\n",
    "print('Best Sharpe Ratio: '+ str(round(mean_vol_table_print.iloc[[0]].Annualized_Sharpe_Ratio[0], 2)) + ' for ' + mean_vol_table_print.iloc[[0]].index)\n",
    "print('Worst Sharpe Ratio: '+ str(round(mean_vol_table_print.iloc[[-1]].Annualized_Sharpe_Ratio[0], 2)) + ' for ' + mean_vol_table_print.iloc[[-1]].index)\n"
   ]
  },
  {
   "attachments": {},
   "cell_type": "markdown",
   "metadata": {},
   "source": [
    "2. (5pts) For each of the 10assets, report the following statistics (no annualization needed).\n",
    "\n",
    "• VaR (0.05). That is to say, the 5th quantile of returns.\n",
    "\n",
    "• CVaR (0.05). That is to say, the average of the returns less than the 5th quantile.\n",
    "\n",
    "• maximum drawdown1 Though we usually calculate maximum drawdown on total returns,\n",
    "keep things simple and just continue to use the excess returns we’re already using in all\n",
    "the other problems."
   ]
  },
  {
   "cell_type": "code",
   "execution_count": 116,
   "metadata": {},
   "outputs": [
    {
     "data": {
      "text/html": [
       "<style type=\"text/css\">\n",
       "</style>\n",
       "<table id=\"T_58169\">\n",
       "  <thead>\n",
       "    <tr>\n",
       "      <th class=\"blank level0\" >&nbsp;</th>\n",
       "      <th id=\"T_58169_level0_col0\" class=\"col_heading level0 col0\" >VaR (0.05)</th>\n",
       "      <th id=\"T_58169_level0_col1\" class=\"col_heading level0 col1\" >CVaR (0.05)</th>\n",
       "      <th id=\"T_58169_level0_col2\" class=\"col_heading level0 col2\" >Max Drawdown</th>\n",
       "    </tr>\n",
       "  </thead>\n",
       "  <tbody>\n",
       "    <tr>\n",
       "      <th id=\"T_58169_level0_row0\" class=\"row_heading level0 row0\" >NoDur</th>\n",
       "      <td id=\"T_58169_row0_col0\" class=\"data row0 col0\" >-5.73%</td>\n",
       "      <td id=\"T_58169_row0_col1\" class=\"data row0 col1\" >-7.95%</td>\n",
       "      <td id=\"T_58169_row0_col2\" class=\"data row0 col2\" >-34.99%</td>\n",
       "    </tr>\n",
       "    <tr>\n",
       "      <th id=\"T_58169_level0_row1\" class=\"row_heading level0 row1\" >Durbl</th>\n",
       "      <td id=\"T_58169_row1_col0\" class=\"data row1 col0\" >-11.70%</td>\n",
       "      <td id=\"T_58169_row1_col1\" class=\"data row1 col1\" >-16.07%</td>\n",
       "      <td id=\"T_58169_row1_col2\" class=\"data row1 col2\" >-76.69%</td>\n",
       "    </tr>\n",
       "    <tr>\n",
       "      <th id=\"T_58169_level0_row2\" class=\"row_heading level0 row2\" >Manuf</th>\n",
       "      <td id=\"T_58169_row2_col0\" class=\"data row2 col0\" >-8.50%</td>\n",
       "      <td id=\"T_58169_row2_col1\" class=\"data row2 col1\" >-11.57%</td>\n",
       "      <td id=\"T_58169_row2_col2\" class=\"data row2 col2\" >-54.91%</td>\n",
       "    </tr>\n",
       "    <tr>\n",
       "      <th id=\"T_58169_level0_row3\" class=\"row_heading level0 row3\" >Enrgy</th>\n",
       "      <td id=\"T_58169_row3_col0\" class=\"data row3 col0\" >-10.71%</td>\n",
       "      <td id=\"T_58169_row3_col1\" class=\"data row3 col1\" >-14.72%</td>\n",
       "      <td id=\"T_58169_row3_col2\" class=\"data row3 col2\" >-66.39%</td>\n",
       "    </tr>\n",
       "    <tr>\n",
       "      <th id=\"T_58169_level0_row4\" class=\"row_heading level0 row4\" >HiTec</th>\n",
       "      <td id=\"T_58169_row4_col0\" class=\"data row4 col0\" >-12.12%</td>\n",
       "      <td id=\"T_58169_row4_col1\" class=\"data row4 col1\" >-15.96%</td>\n",
       "      <td id=\"T_58169_row4_col2\" class=\"data row4 col2\" >-81.35%</td>\n",
       "    </tr>\n",
       "    <tr>\n",
       "      <th id=\"T_58169_level0_row5\" class=\"row_heading level0 row5\" >Telcm</th>\n",
       "      <td id=\"T_58169_row5_col0\" class=\"data row5 col0\" >-9.53%</td>\n",
       "      <td id=\"T_58169_row5_col1\" class=\"data row5 col1\" >-12.16%</td>\n",
       "      <td id=\"T_58169_row5_col2\" class=\"data row5 col2\" >-77.39%</td>\n",
       "    </tr>\n",
       "    <tr>\n",
       "      <th id=\"T_58169_level0_row6\" class=\"row_heading level0 row6\" >Shops</th>\n",
       "      <td id=\"T_58169_row6_col0\" class=\"data row6 col0\" >-7.48%</td>\n",
       "      <td id=\"T_58169_row6_col1\" class=\"data row6 col1\" >-9.67%</td>\n",
       "      <td id=\"T_58169_row6_col2\" class=\"data row6 col2\" >-40.91%</td>\n",
       "    </tr>\n",
       "    <tr>\n",
       "      <th id=\"T_58169_level0_row7\" class=\"row_heading level0 row7\" >Hlth</th>\n",
       "      <td id=\"T_58169_row7_col0\" class=\"data row7 col0\" >-7.18%</td>\n",
       "      <td id=\"T_58169_row7_col1\" class=\"data row7 col1\" >-8.85%</td>\n",
       "      <td id=\"T_58169_row7_col2\" class=\"data row7 col2\" >-42.58%</td>\n",
       "    </tr>\n",
       "    <tr>\n",
       "      <th id=\"T_58169_level0_row8\" class=\"row_heading level0 row8\" >Utils</th>\n",
       "      <td id=\"T_58169_row8_col0\" class=\"data row8 col0\" >-6.46%</td>\n",
       "      <td id=\"T_58169_row8_col1\" class=\"data row8 col1\" >-9.72%</td>\n",
       "      <td id=\"T_58169_row8_col2\" class=\"data row8 col2\" >-39.23%</td>\n",
       "    </tr>\n",
       "    <tr>\n",
       "      <th id=\"T_58169_level0_row9\" class=\"row_heading level0 row9\" >Other</th>\n",
       "      <td id=\"T_58169_row9_col0\" class=\"data row9 col0\" >-8.41%</td>\n",
       "      <td id=\"T_58169_row9_col1\" class=\"data row9 col1\" >-12.56%</td>\n",
       "      <td id=\"T_58169_row9_col2\" class=\"data row9 col2\" >-69.57%</td>\n",
       "    </tr>\n",
       "  </tbody>\n",
       "</table>\n"
      ],
      "text/plain": [
       "<pandas.io.formats.style.Styler at 0x28b1ea620>"
      ]
     },
     "execution_count": 116,
     "metadata": {},
     "output_type": "execute_result"
    }
   ],
   "source": [
    "vars = {}\n",
    "vars[\"VaR (0.05)\"] = assets.quantile(0.05, axis=0)\n",
    "vars[\"CVaR (0.05)\"] = assets[assets <= assets.quantile(0.05, axis=0)].mean()\n",
    "\n",
    "# Cumulative returns on $1000\n",
    "wealth_index = 1000 * (1 + assets).cumprod()\n",
    "previous_peaks = wealth_index.cummax()\n",
    "# Biggest difference between cumulative max and your current wealth\n",
    "drawdowns = (wealth_index - previous_peaks) / previous_peaks\n",
    "vars[\"Max Drawdown\"] = drawdowns.min()\n",
    "\n",
    "summary = pd.DataFrame(vars)\n",
    "\n",
    "summary.style.format('{:,.2%}')\n"
   ]
  },
  {
   "cell_type": "code",
   "execution_count": 117,
   "metadata": {},
   "outputs": [
    {
     "name": "stdout",
     "output_type": "stream",
     "text": [
      "Pair of assets with highest correlation: ('Manuf', 'Other')\n",
      "Pair of assets with lowest correlation: ('Utils', 'HiTec')\n"
     ]
    }
   ],
   "source": [
    "corrmat = assets.corr()\n",
    "corrmat[corrmat==1] = None\n",
    "corr_rank = abs(corrmat.unstack()).sort_values(ascending = False).dropna()\n",
    "print('Pair of assets with highest correlation: ' + str(corr_rank.index[1]))\n",
    "print('Pair of assets with lowest correlation: ' + str(corr_rank.index[-1]))\n",
    "# print(mean_vol_table_print['Annualized_Sharpe_Ratio'])\n",
    "# print(mean_vol_table_print['Annualized_Sharpe_Ratio'].describe().loc[['mean']])\n",
    "# plt.figure(figsize=(10,8))\n",
    "# sns.heatmap(corrmat)\n",
    "# plt.show()"
   ]
  },
  {
   "attachments": {},
   "cell_type": "markdown",
   "metadata": {},
   "source": [
    "## 2 Mean-Variance Optimization (35pts)"
   ]
  },
  {
   "attachments": {},
   "cell_type": "markdown",
   "metadata": {},
   "source": [
    "1. (10pts) Calculate the weights of the tangency portfolio formed from the 10assets."
   ]
  },
  {
   "cell_type": "code",
   "execution_count": 118,
   "metadata": {},
   "outputs": [
    {
     "data": {
      "text/html": [
       "<style type=\"text/css\">\n",
       "</style>\n",
       "<table id=\"T_5c33d\">\n",
       "  <thead>\n",
       "    <tr>\n",
       "      <th class=\"blank level0\" >&nbsp;</th>\n",
       "      <th id=\"T_5c33d_level0_col0\" class=\"col_heading level0 col0\" >Weights for the Tangency Portfolio</th>\n",
       "    </tr>\n",
       "  </thead>\n",
       "  <tbody>\n",
       "    <tr>\n",
       "      <th id=\"T_5c33d_level0_row0\" class=\"row_heading level0 row0\" >NoDur</th>\n",
       "      <td id=\"T_5c33d_row0_col0\" class=\"data row0 col0\" >74.75%</td>\n",
       "    </tr>\n",
       "    <tr>\n",
       "      <th id=\"T_5c33d_level0_row1\" class=\"row_heading level0 row1\" >Shops</th>\n",
       "      <td id=\"T_5c33d_row1_col0\" class=\"data row1 col0\" >42.92%</td>\n",
       "    </tr>\n",
       "    <tr>\n",
       "      <th id=\"T_5c33d_level0_row2\" class=\"row_heading level0 row2\" >Utils</th>\n",
       "      <td id=\"T_5c33d_row2_col0\" class=\"data row2 col0\" >29.65%</td>\n",
       "    </tr>\n",
       "    <tr>\n",
       "      <th id=\"T_5c33d_level0_row3\" class=\"row_heading level0 row3\" >Hlth</th>\n",
       "      <td id=\"T_5c33d_row3_col0\" class=\"data row3 col0\" >28.27%</td>\n",
       "    </tr>\n",
       "    <tr>\n",
       "      <th id=\"T_5c33d_level0_row4\" class=\"row_heading level0 row4\" >HiTec</th>\n",
       "      <td id=\"T_5c33d_row4_col0\" class=\"data row4 col0\" >16.23%</td>\n",
       "    </tr>\n",
       "    <tr>\n",
       "      <th id=\"T_5c33d_level0_row5\" class=\"row_heading level0 row5\" >Enrgy</th>\n",
       "      <td id=\"T_5c33d_row5_col0\" class=\"data row5 col0\" >10.91%</td>\n",
       "    </tr>\n",
       "    <tr>\n",
       "      <th id=\"T_5c33d_level0_row6\" class=\"row_heading level0 row6\" >Manuf</th>\n",
       "      <td id=\"T_5c33d_row6_col0\" class=\"data row6 col0\" >6.62%</td>\n",
       "    </tr>\n",
       "    <tr>\n",
       "      <th id=\"T_5c33d_level0_row7\" class=\"row_heading level0 row7\" >Durbl</th>\n",
       "      <td id=\"T_5c33d_row7_col0\" class=\"data row7 col0\" >1.60%</td>\n",
       "    </tr>\n",
       "    <tr>\n",
       "      <th id=\"T_5c33d_level0_row8\" class=\"row_heading level0 row8\" >Other</th>\n",
       "      <td id=\"T_5c33d_row8_col0\" class=\"data row8 col0\" >-49.59%</td>\n",
       "    </tr>\n",
       "    <tr>\n",
       "      <th id=\"T_5c33d_level0_row9\" class=\"row_heading level0 row9\" >Telcm</th>\n",
       "      <td id=\"T_5c33d_row9_col0\" class=\"data row9 col0\" >-61.36%</td>\n",
       "    </tr>\n",
       "  </tbody>\n",
       "</table>\n"
      ],
      "text/plain": [
       "<pandas.io.formats.style.Styler at 0x28b24bcd0>"
      ]
     },
     "execution_count": 118,
     "metadata": {},
     "output_type": "execute_result"
    }
   ],
   "source": [
    "tangency_portfolio_weights = tangency_portfolio(assets)\n",
    "pd.DataFrame(tangency_portfolio_weights, index = assets.columns, columns = ['Weights for the Tangency Portfolio']).sort_values('Weights for the Tangency Portfolio', ascending = False).style.format('{:,.2%}')"
   ]
  },
  {
   "attachments": {},
   "cell_type": "markdown",
   "metadata": {},
   "source": [
    "2. (a) (5pts) What are the weights of the optimal portfolio, w∗, with a targeted mean excess\n",
    "return of 0.01 per month?"
   ]
  },
  {
   "cell_type": "code",
   "execution_count": 119,
   "metadata": {},
   "outputs": [
    {
     "data": {
      "text/html": [
       "<style type=\"text/css\">\n",
       "</style>\n",
       "<table id=\"T_28a65\">\n",
       "  <thead>\n",
       "    <tr>\n",
       "      <th class=\"blank level0\" >&nbsp;</th>\n",
       "      <th id=\"T_28a65_level0_col0\" class=\"col_heading level0 col0\" >Weights for the Target Portfolio</th>\n",
       "    </tr>\n",
       "  </thead>\n",
       "  <tbody>\n",
       "    <tr>\n",
       "      <th id=\"T_28a65_level0_row0\" class=\"row_heading level0 row0\" >NoDur</th>\n",
       "      <td id=\"T_28a65_row0_col0\" class=\"data row0 col0\" >67.44%</td>\n",
       "    </tr>\n",
       "    <tr>\n",
       "      <th id=\"T_28a65_level0_row1\" class=\"row_heading level0 row1\" >Shops</th>\n",
       "      <td id=\"T_28a65_row1_col0\" class=\"data row1 col0\" >38.72%</td>\n",
       "    </tr>\n",
       "    <tr>\n",
       "      <th id=\"T_28a65_level0_row2\" class=\"row_heading level0 row2\" >Utils</th>\n",
       "      <td id=\"T_28a65_row2_col0\" class=\"data row2 col0\" >26.74%</td>\n",
       "    </tr>\n",
       "    <tr>\n",
       "      <th id=\"T_28a65_level0_row3\" class=\"row_heading level0 row3\" >Hlth</th>\n",
       "      <td id=\"T_28a65_row3_col0\" class=\"data row3 col0\" >25.51%</td>\n",
       "    </tr>\n",
       "    <tr>\n",
       "      <th id=\"T_28a65_level0_row4\" class=\"row_heading level0 row4\" >HiTec</th>\n",
       "      <td id=\"T_28a65_row4_col0\" class=\"data row4 col0\" >14.64%</td>\n",
       "    </tr>\n",
       "    <tr>\n",
       "      <th id=\"T_28a65_level0_row5\" class=\"row_heading level0 row5\" >Enrgy</th>\n",
       "      <td id=\"T_28a65_row5_col0\" class=\"data row5 col0\" >9.84%</td>\n",
       "    </tr>\n",
       "    <tr>\n",
       "      <th id=\"T_28a65_level0_row6\" class=\"row_heading level0 row6\" >Manuf</th>\n",
       "      <td id=\"T_28a65_row6_col0\" class=\"data row6 col0\" >5.97%</td>\n",
       "    </tr>\n",
       "    <tr>\n",
       "      <th id=\"T_28a65_level0_row7\" class=\"row_heading level0 row7\" >Durbl</th>\n",
       "      <td id=\"T_28a65_row7_col0\" class=\"data row7 col0\" >1.45%</td>\n",
       "    </tr>\n",
       "    <tr>\n",
       "      <th id=\"T_28a65_level0_row8\" class=\"row_heading level0 row8\" >Other</th>\n",
       "      <td id=\"T_28a65_row8_col0\" class=\"data row8 col0\" >-44.74%</td>\n",
       "    </tr>\n",
       "    <tr>\n",
       "      <th id=\"T_28a65_level0_row9\" class=\"row_heading level0 row9\" >Telcm</th>\n",
       "      <td id=\"T_28a65_row9_col0\" class=\"data row9 col0\" >-55.35%</td>\n",
       "    </tr>\n",
       "  </tbody>\n",
       "</table>\n"
      ],
      "text/plain": [
       "<pandas.io.formats.style.Styler at 0x28b18e800>"
      ]
     },
     "execution_count": 119,
     "metadata": {},
     "output_type": "execute_result"
    }
   ],
   "source": [
    "# Allocation to tangency portfolio\n",
    "portfolio_weights = tangency_portfolio_weights * tangency_portfolio_allocation(assets, )\n",
    "weights = pd.DataFrame(portfolio_weights, index = assets.columns, columns = ['Weights for the Target Portfolio']).sort_values('Weights for the Target Portfolio', ascending = False).style.format('{:,.2%}')\n",
    "weights"
   ]
  },
  {
   "attachments": {},
   "cell_type": "markdown",
   "metadata": {},
   "source": [
    "(b) (5pts) Is the optimal portfolio, w∗, invested in the risk-free rate?"
   ]
  },
  {
   "cell_type": "code",
   "execution_count": 120,
   "metadata": {},
   "outputs": [
    {
     "data": {
      "text/plain": [
       "0.09785803563216389"
      ]
     },
     "execution_count": 120,
     "metadata": {},
     "output_type": "execute_result"
    }
   ],
   "source": [
    "1-portfolio_weights.sum()\n",
    "#  In the optimal portfolio, w*, there is roughly 9.79% invested in risk-free rates"
   ]
  },
  {
   "attachments": {},
   "cell_type": "markdown",
   "metadata": {},
   "source": [
    "3. (5pts) Report the mean, volatility, and Sharpe ratio for the optimized portfolio, w∗, (calculated\n",
    "in the previous question.) Annualize the statistics."
   ]
  },
  {
   "cell_type": "code",
   "execution_count": 121,
   "metadata": {},
   "outputs": [
    {
     "data": {
      "text/html": [
       "<style type=\"text/css\">\n",
       "</style>\n",
       "<table id=\"T_99a37\">\n",
       "  <thead>\n",
       "    <tr>\n",
       "      <th class=\"blank level0\" >&nbsp;</th>\n",
       "      <th id=\"T_99a37_level0_col0\" class=\"col_heading level0 col0\" >Mean</th>\n",
       "      <th id=\"T_99a37_level0_col1\" class=\"col_heading level0 col1\" >Vol</th>\n",
       "      <th id=\"T_99a37_level0_col2\" class=\"col_heading level0 col2\" >Sharpe</th>\n",
       "      <th id=\"T_99a37_level0_col3\" class=\"col_heading level0 col3\" >Min</th>\n",
       "      <th id=\"T_99a37_level0_col4\" class=\"col_heading level0 col4\" >Max</th>\n",
       "    </tr>\n",
       "  </thead>\n",
       "  <tbody>\n",
       "    <tr>\n",
       "      <th id=\"T_99a37_level0_row0\" class=\"row_heading level0 row0\" >Optimal Portfolio</th>\n",
       "      <td id=\"T_99a37_row0_col0\" class=\"data row0 col0\" >12.00%</td>\n",
       "      <td id=\"T_99a37_row0_col1\" class=\"data row0 col1\" >12.24%</td>\n",
       "      <td id=\"T_99a37_row0_col2\" class=\"data row0 col2\" >98.01%</td>\n",
       "      <td id=\"T_99a37_row0_col3\" class=\"data row0 col3\" >-10.19%</td>\n",
       "      <td id=\"T_99a37_row0_col4\" class=\"data row0 col4\" >13.61%</td>\n",
       "    </tr>\n",
       "  </tbody>\n",
       "</table>\n"
      ],
      "text/plain": [
       "<pandas.io.formats.style.Styler at 0x28c5448b0>"
      ]
     },
     "execution_count": 121,
     "metadata": {},
     "output_type": "execute_result"
    }
   ],
   "source": [
    "performanceMetrics(pd.DataFrame(assets@portfolio_weights, columns=['Optimal Portfolio']), annualization=12)\\\n",
    ".style.format('{:,.2%}')"
   ]
  },
  {
   "attachments": {},
   "cell_type": "markdown",
   "metadata": {},
   "source": [
    "4. (5pts) Suppose an endowment is optimizing the multi-asset-class ETFs we used in our case study\n",
    "of Homework 1.\n",
    "Briefly describe one thing that should be considered in deciding whether to make Bitcoin an\n",
    "(additional) asset class for the endowment’s allocation."
   ]
  },
  {
   "attachments": {},
   "cell_type": "markdown",
   "metadata": {},
   "source": [
    "ANSWER: Bitcoin's correlation with the already existing asset classes"
   ]
  },
  {
   "attachments": {},
   "cell_type": "markdown",
   "metadata": {},
   "source": [
    "5. (5pts) In Homework 1, we tried estimating the mean-variance solution using data from 2009-2020\n",
    "and testing it out of sample in 2021-2022.\n",
    "\n",
    "We found the out-of-sample performance of the MV solution was worse than an equally weighted\n",
    "portfolio.\n",
    "\n",
    "Explain from a technical perspective why MV failed out of sample."
   ]
  },
  {
   "attachments": {},
   "cell_type": "markdown",
   "metadata": {},
   "source": [
    "ANSWER: The mean-variance solution using data from 2009-2020 was constructed using attributes (volatility, mean returns, sharpe ratio, etc) of the assets during that time period, however, if these attributes changed, then the delicately constructed mean-variance solution for 2009-2020 would no longer be optimal. It would break away from the actual tangency porfolio.\n",
    "\n",
    "MV Optimization fails out-of-sample for two reasons:\n",
    "\n",
    "1. ***Imprecise estimation of covariance matrix:*** The covariance matrix is poorly estimated in the case of large number of assets or less amount of historical data. Inverting the covariance matrix makes the estimation even more fragile. Inverting a matrix with high correlations increases the condition number further adding to the instability. Due to these, our estimates of covariances will likely not hold out-of-sample.\n",
    "2. ***High senstivity to changes in mean return:*** MV optimizer is highly sensitive to small changes in the estimated mean returns of the security pool. Large swings in portfolio weights are required to maintain the optimal portfolio even with small changes in mean returns. Due to this, MV optimizer does not perform well on out-of-sample data   "
   ]
  },
  {
   "attachments": {},
   "cell_type": "markdown",
   "metadata": {},
   "source": [
    "## 3 Pricing (25pts)"
   ]
  },
  {
   "attachments": {},
   "cell_type": "markdown",
   "metadata": {},
   "source": [
    "1. (10pts) Test a 3-factor pricing model on the 10assets. All this data is already given in excess\n",
    "returns, so no further adjustment is needed.\n",
    "Report the\n",
    "• annualized alphas\n",
    "• annualized Information ratios\n",
    "• r-squared statistics"
   ]
  },
  {
   "cell_type": "code",
   "execution_count": 172,
   "metadata": {},
   "outputs": [
    {
     "data": {
      "text/html": [
       "<div>\n",
       "<style scoped>\n",
       "    .dataframe tbody tr th:only-of-type {\n",
       "        vertical-align: middle;\n",
       "    }\n",
       "\n",
       "    .dataframe tbody tr th {\n",
       "        vertical-align: top;\n",
       "    }\n",
       "\n",
       "    .dataframe thead th {\n",
       "        text-align: right;\n",
       "    }\n",
       "</style>\n",
       "<table border=\"1\" class=\"dataframe\">\n",
       "  <thead>\n",
       "    <tr style=\"text-align: right;\">\n",
       "      <th></th>\n",
       "      <th>alpha</th>\n",
       "      <th>MKT</th>\n",
       "      <th>HML</th>\n",
       "      <th>RMW</th>\n",
       "      <th>r-squared</th>\n",
       "      <th>Info Ratio</th>\n",
       "    </tr>\n",
       "  </thead>\n",
       "  <tbody>\n",
       "    <tr>\n",
       "      <th>NoDur</th>\n",
       "      <td>0.0178</td>\n",
       "      <td>0.6646</td>\n",
       "      <td>0.1256</td>\n",
       "      <td>0.4079</td>\n",
       "      <td>0.6382</td>\n",
       "      <td>0.2374</td>\n",
       "    </tr>\n",
       "    <tr>\n",
       "      <th>Durbl</th>\n",
       "      <td>-0.0191</td>\n",
       "      <td>1.5866</td>\n",
       "      <td>0.2004</td>\n",
       "      <td>0.3318</td>\n",
       "      <td>0.6384</td>\n",
       "      <td>-0.1055</td>\n",
       "    </tr>\n",
       "    <tr>\n",
       "      <th>Manuf</th>\n",
       "      <td>-0.0038</td>\n",
       "      <td>1.0791</td>\n",
       "      <td>0.1853</td>\n",
       "      <td>0.2888</td>\n",
       "      <td>0.8813</td>\n",
       "      <td>-0.0628</td>\n",
       "    </tr>\n",
       "    <tr>\n",
       "      <th>Enrgy</th>\n",
       "      <td>0.0085</td>\n",
       "      <td>0.9910</td>\n",
       "      <td>0.6511</td>\n",
       "      <td>0.1380</td>\n",
       "      <td>0.4757</td>\n",
       "      <td>0.0477</td>\n",
       "    </tr>\n",
       "    <tr>\n",
       "      <th>HiTec</th>\n",
       "      <td>0.0307</td>\n",
       "      <td>1.2160</td>\n",
       "      <td>-0.4838</td>\n",
       "      <td>-0.4091</td>\n",
       "      <td>0.8918</td>\n",
       "      <td>0.3926</td>\n",
       "    </tr>\n",
       "    <tr>\n",
       "      <th>Telcm</th>\n",
       "      <td>-0.0357</td>\n",
       "      <td>0.9356</td>\n",
       "      <td>0.0203</td>\n",
       "      <td>-0.0338</td>\n",
       "      <td>0.6651</td>\n",
       "      <td>-0.3393</td>\n",
       "    </tr>\n",
       "    <tr>\n",
       "      <th>Shops</th>\n",
       "      <td>0.0042</td>\n",
       "      <td>0.9406</td>\n",
       "      <td>-0.0527</td>\n",
       "      <td>0.3721</td>\n",
       "      <td>0.7610</td>\n",
       "      <td>0.0540</td>\n",
       "    </tr>\n",
       "    <tr>\n",
       "      <th>Hlth</th>\n",
       "      <td>0.0336</td>\n",
       "      <td>0.6642</td>\n",
       "      <td>-0.0860</td>\n",
       "      <td>0.0881</td>\n",
       "      <td>0.5136</td>\n",
       "      <td>0.3391</td>\n",
       "    </tr>\n",
       "    <tr>\n",
       "      <th>Utils</th>\n",
       "      <td>0.0373</td>\n",
       "      <td>0.5180</td>\n",
       "      <td>0.1534</td>\n",
       "      <td>0.2996</td>\n",
       "      <td>0.3003</td>\n",
       "      <td>0.3072</td>\n",
       "    </tr>\n",
       "    <tr>\n",
       "      <th>Other</th>\n",
       "      <td>-0.0211</td>\n",
       "      <td>1.0762</td>\n",
       "      <td>0.5095</td>\n",
       "      <td>0.0309</td>\n",
       "      <td>0.9201</td>\n",
       "      <td>-0.4039</td>\n",
       "    </tr>\n",
       "  </tbody>\n",
       "</table>\n",
       "</div>"
      ],
      "text/plain": [
       "        alpha    MKT     HML     RMW  r-squared  Info Ratio\n",
       "NoDur  0.0178 0.6646  0.1256  0.4079     0.6382      0.2374\n",
       "Durbl -0.0191 1.5866  0.2004  0.3318     0.6384     -0.1055\n",
       "Manuf -0.0038 1.0791  0.1853  0.2888     0.8813     -0.0628\n",
       "Enrgy  0.0085 0.9910  0.6511  0.1380     0.4757      0.0477\n",
       "HiTec  0.0307 1.2160 -0.4838 -0.4091     0.8918      0.3926\n",
       "Telcm -0.0357 0.9356  0.0203 -0.0338     0.6651     -0.3393\n",
       "Shops  0.0042 0.9406 -0.0527  0.3721     0.7610      0.0540\n",
       "Hlth   0.0336 0.6642 -0.0860  0.0881     0.5136      0.3391\n",
       "Utils  0.0373 0.5180  0.1534  0.2996     0.3003      0.3072\n",
       "Other -0.0211 1.0762  0.5095  0.0309     0.9201     -0.4039"
      ]
     },
     "execution_count": 172,
     "metadata": {},
     "output_type": "execute_result"
    }
   ],
   "source": [
    "ols_metrics = get_ols_metrics(factors, assets, annualization=12)\n",
    "\n",
    "# display(ols_metrics.style.format(formatter = {'alpha' : '{:,.2%}', 'MKT' : '{:,.2f}', 'r-squared' : '{:,.2%}',\\\n",
    "#                              'Treynor Ratio' : '{:,.2f}', 'Info Ratio' : '{:,.2f}'}))\n",
    "ols_metrics"
   ]
  },
  {
   "attachments": {},
   "cell_type": "markdown",
   "metadata": {},
   "source": [
    "2. (5pts) Which asset does the pricing model fit best?"
   ]
  },
  {
   "attachments": {},
   "cell_type": "markdown",
   "metadata": {},
   "source": [
    "ANSWER: The pricing model fits the asset category \"Other\" the best with an r-squared of 92.01%"
   ]
  },
  {
   "attachments": {},
   "cell_type": "markdown",
   "metadata": {},
   "source": [
    "3. (5pts) Instead of the 3-factor model above, suppose the CAPM is true and fits perfectly in our\n",
    "sample.\n",
    "For n assets, what do we know about their...\n",
    "• time-series r-squared metrics?\n",
    "• Treynor Ratios?\n",
    "• Information Ratios?"
   ]
  },
  {
   "attachments": {},
   "cell_type": "markdown",
   "metadata": {},
   "source": [
    "**time-series r-squared metrics:** Nothing. Time-series R-Squared values can be high or low even if the CAPM is perfect, because CAPM doesn't claim to explain the difference in returns of a security at different times. CAPM says that long term expected excess return of a security if a linear function of it's beta to the market premium.\n",
    "\n",
    "**Treynor Ratio:** If CAPM were true, Treynor Ratio $\\frac{\\mathbb{E}[\\tilde{r}]}{\\beta}$ for every security would be equal to the expected market premium. \n",
    "\n",
    "**Information Ratio:** If CAPM were true, there would be no excess expected return against the market premium. Hence alpha would be zero and Info Ratio would be zero."
   ]
  },
  {
   "attachments": {},
   "cell_type": "markdown",
   "metadata": {},
   "source": [
    "4. (5pts) Suppose the CAPM is true and fits perfectly in our sample, yet we estimated the 3-factor\n",
    "model as above.\n",
    "Would the betas on the extra regressors (HML and RMW) be zero?\n"
   ]
  },
  {
   "attachments": {},
   "cell_type": "markdown",
   "metadata": {},
   "source": [
    "ANSWER: Even if CAPM is true and fits perfectly in the sample, it is not necessary that the time-series betas on other factors would be zero. That's because these factors can still help explain the variation in a security returns time series so that time-series model error terms are even smaller."
   ]
  },
  {
   "attachments": {},
   "cell_type": "markdown",
   "metadata": {},
   "source": [
    "## 4 Forecasting (35pts)"
   ]
  },
  {
   "attachments": {},
   "cell_type": "markdown",
   "metadata": {},
   "source": [
    "1. (7pts) Forecast the market return, MKT, using the lagged risk-free rate as a signal.\n",
    "Report the beta and r-squared from the regression."
   ]
  },
  {
   "cell_type": "code",
   "execution_count": 162,
   "metadata": {},
   "outputs": [
    {
     "data": {
      "text/html": [
       "<style type=\"text/css\">\n",
       "</style>\n",
       "<table id=\"T_c1f19\">\n",
       "  <thead>\n",
       "    <tr>\n",
       "      <th class=\"blank level0\" >&nbsp;</th>\n",
       "      <th id=\"T_c1f19_level0_col0\" class=\"col_heading level0 col0\" >Beta</th>\n",
       "      <th id=\"T_c1f19_level0_col1\" class=\"col_heading level0 col1\" >R-Squared</th>\n",
       "    </tr>\n",
       "  </thead>\n",
       "  <tbody>\n",
       "    <tr>\n",
       "      <th id=\"T_c1f19_level0_row0\" class=\"row_heading level0 row0\" >Forecast</th>\n",
       "      <td id=\"T_c1f19_row0_col0\" class=\"data row0 col0\" >-4.63</td>\n",
       "      <td id=\"T_c1f19_row0_col1\" class=\"data row0 col1\" >2.31%</td>\n",
       "    </tr>\n",
       "  </tbody>\n",
       "</table>\n"
      ],
      "text/plain": [
       "<pandas.io.formats.style.Styler at 0x28daf85b0>"
      ]
     },
     "metadata": {},
     "output_type": "display_data"
    }
   ],
   "source": [
    "lag_risk_free = risk_free.shift().dropna()\n",
    "mkt = factors[['MKT']].iloc[1:]\n",
    "model = LinearRegression().fit(lag_risk_free, mkt)\n",
    "model_params = pd.DataFrame({'Beta': model.coef_[0], 'R-Squared' : model.score(lag_risk_free, mkt)}, index = ['Forecast'])\n",
    "display(model_params.style.format({'Beta':'{:,.2f}', 'R-Squared' : '{:,.2%}'}))"
   ]
  },
  {
   "attachments": {},
   "cell_type": "markdown",
   "metadata": {},
   "source": [
    "**2. Calculate the fitted values.**\n",
    "\n",
    "$$\\hat{y_t} = \\alpha + \\beta x_t$$\n",
    "\n",
    "**Use them to calculate the weights:**\n",
    "$$w_t = 100\\hat{y_t} = 100(\\alpha + \\beta x_t)$$\n",
    "\n",
    "**Report the final value in the timeseries of $w_t$**"
   ]
  },
  {
   "cell_type": "code",
   "execution_count": 164,
   "metadata": {},
   "outputs": [
    {
     "name": "stdout",
     "output_type": "stream",
     "text": [
      "[1.12435602]\n"
     ]
    }
   ],
   "source": [
    "predict_mkt = model.predict(lag_risk_free)\n",
    "wt = 100*predict_mkt\n",
    "print(wt[len(wt)-1])\n",
    "# predict_mkt"
   ]
  },
  {
   "attachments": {},
   "cell_type": "markdown",
   "metadata": {},
   "source": [
    "**3. Use the weights to calculate the strategy return:**\n",
    "$$r^x_{t+1} = w_t r^{\\text{MKT}}_{t+1}$$\n",
    "\n",
    "Report the **annualized** mean, volatility and Sharpe ratio of the strategy."
   ]
  },
  {
   "cell_type": "code",
   "execution_count": 165,
   "metadata": {},
   "outputs": [
    {
     "data": {
      "text/html": [
       "<style type=\"text/css\">\n",
       "</style>\n",
       "<table id=\"T_485dc\">\n",
       "  <thead>\n",
       "    <tr>\n",
       "      <th class=\"blank level0\" >&nbsp;</th>\n",
       "      <th id=\"T_485dc_level0_col0\" class=\"col_heading level0 col0\" >Mean</th>\n",
       "      <th id=\"T_485dc_level0_col1\" class=\"col_heading level0 col1\" >Vol</th>\n",
       "      <th id=\"T_485dc_level0_col2\" class=\"col_heading level0 col2\" >Sharpe</th>\n",
       "      <th id=\"T_485dc_level0_col3\" class=\"col_heading level0 col3\" >Min</th>\n",
       "      <th id=\"T_485dc_level0_col4\" class=\"col_heading level0 col4\" >Max</th>\n",
       "    </tr>\n",
       "  </thead>\n",
       "  <tbody>\n",
       "    <tr>\n",
       "      <th id=\"T_485dc_level0_row0\" class=\"row_heading level0 row0\" >MKT</th>\n",
       "      <td id=\"T_485dc_row0_col0\" class=\"data row0 col0\" >9.41%</td>\n",
       "      <td id=\"T_485dc_row0_col1\" class=\"data row0 col1\" >13.67%</td>\n",
       "      <td id=\"T_485dc_row0_col2\" class=\"data row0 col2\" >68.85%</td>\n",
       "      <td id=\"T_485dc_row0_col3\" class=\"data row0 col3\" >-11.36%</td>\n",
       "      <td id=\"T_485dc_row0_col4\" class=\"data row0 col4\" >15.77%</td>\n",
       "    </tr>\n",
       "  </tbody>\n",
       "</table>\n"
      ],
      "text/plain": [
       "<pandas.io.formats.style.Styler at 0x148973d90>"
      ]
     },
     "execution_count": 165,
     "metadata": {},
     "output_type": "execute_result"
    }
   ],
   "source": [
    "rt = wt*mkt\n",
    "performanceMetrics(rt, 12).style.format('{:,.2%}')"
   ]
  },
  {
   "attachments": {},
   "cell_type": "markdown",
   "metadata": {},
   "source": [
    "**4. Estimate the factor decomposition of the strategy versus the MKT factor:**\n",
    "\n",
    "$$r^x_t = \\alpha + \\beta r^{\\text{MKT}}_t + \\epsilon_t$$\n",
    "\n",
    "**Report**\n",
    "* the annualized alpha and Info Ratio. \n",
    "* beta\n",
    "* r-squared."
   ]
  },
  {
   "cell_type": "code",
   "execution_count": 170,
   "metadata": {},
   "outputs": [
    {
     "data": {
      "text/html": [
       "<style type=\"text/css\">\n",
       "</style>\n",
       "<table id=\"T_8bc76\">\n",
       "  <thead>\n",
       "    <tr>\n",
       "      <th class=\"blank level0\" >&nbsp;</th>\n",
       "      <th id=\"T_8bc76_level0_col0\" class=\"col_heading level0 col0\" >alpha</th>\n",
       "      <th id=\"T_8bc76_level0_col1\" class=\"col_heading level0 col1\" >Info Ratio</th>\n",
       "      <th id=\"T_8bc76_level0_col2\" class=\"col_heading level0 col2\" >MKT</th>\n",
       "      <th id=\"T_8bc76_level0_col3\" class=\"col_heading level0 col3\" >r-squared</th>\n",
       "    </tr>\n",
       "  </thead>\n",
       "  <tbody>\n",
       "    <tr>\n",
       "      <th id=\"T_8bc76_level0_row0\" class=\"row_heading level0 row0\" >MKT</th>\n",
       "      <td id=\"T_8bc76_row0_col0\" class=\"data row0 col0\" >5.94%</td>\n",
       "      <td id=\"T_8bc76_row0_col1\" class=\"data row0 col1\" >54.13%</td>\n",
       "      <td id=\"T_8bc76_row0_col2\" class=\"data row0 col2\" >51.86%</td>\n",
       "      <td id=\"T_8bc76_row0_col3\" class=\"data row0 col3\" >35.54%</td>\n",
       "    </tr>\n",
       "  </tbody>\n",
       "</table>\n"
      ],
      "text/plain": [
       "<pandas.io.formats.style.Styler at 0x148fced10>"
      ]
     },
     "metadata": {},
     "output_type": "display_data"
    }
   ],
   "source": [
    "strat_model = LinearRegression().fit(mkt,rt)\n",
    "rsq = strat_model.score(mkt,rt)\n",
    "alpha = strat_model.intercept_[0]\n",
    "beta = strat_model.coef_[0]\n",
    "resid = rt - strat_model.predict(mkt)\n",
    "info_ratio = alpha/resid.std()\n",
    "\n",
    "decomp = pd.DataFrame({'alpha': alpha*12, 'Info Ratio': info_ratio*np.sqrt(12), 'MKT': beta, 'r-squared': rsq})\n",
    "display(decomp.style.format('{:,.2%}'))"
   ]
  },
  {
   "attachments": {},
   "cell_type": "markdown",
   "metadata": {},
   "source": [
    "**5. Suppose you wanted to hedge the timing strategy against movements in MKT. Based on the previous calculation, explain how to set up this hedge.**"
   ]
  },
  {
   "attachments": {},
   "cell_type": "markdown",
   "metadata": {},
   "source": [
    "To hedge the strategy above, we would *short* 0.5186 units of the MKT for every unit of investment in the strategy. The optimal hedge ratio of 0.5186 is given by the beta of the regression"
   ]
  }
 ],
 "metadata": {
  "kernelspec": {
   "display_name": "Python 3",
   "language": "python",
   "name": "python3"
  },
  "language_info": {
   "codemirror_mode": {
    "name": "ipython",
    "version": 3
   },
   "file_extension": ".py",
   "mimetype": "text/x-python",
   "name": "python",
   "nbconvert_exporter": "python",
   "pygments_lexer": "ipython3",
   "version": "3.10.9"
  },
  "orig_nbformat": 4
 },
 "nbformat": 4,
 "nbformat_minor": 2
}
