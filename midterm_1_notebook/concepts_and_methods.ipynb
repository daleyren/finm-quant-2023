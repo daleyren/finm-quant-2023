{
 "cells": [
  {
   "attachments": {},
   "cell_type": "markdown",
   "metadata": {},
   "source": [
    "Necessary Libraries"
   ]
  },
  {
   "cell_type": "code",
   "execution_count": 1,
   "metadata": {},
   "outputs": [],
   "source": [
    "import pandas as pd\n",
    "import numpy as np\n",
    "import matplotlib.pyplot as plt\n",
    "import seaborn as sns\n"
   ]
  },
  {
   "attachments": {},
   "cell_type": "markdown",
   "metadata": {},
   "source": [
    "Load Data from file into a pandas DataFrame"
   ]
  },
  {
   "cell_type": "code",
   "execution_count": null,
   "metadata": {},
   "outputs": [],
   "source": [
    "filepath = \"\"\n",
    "sheetname = \"\"\n",
    "data = pd.read_excel(\n",
    "    filepath,\n",
    "    sheet_name=sheetname,  # Specify the sheet name\n",
    "    index_col=0,  # Set the index to the first column in the excel sheet\n",
    "    parse_dates=[\n",
    "        0\n",
    "    ],  # Parse the dates from the first column to turn them into datetime objects\n",
    ")"
   ]
  },
  {
   "attachments": {},
   "cell_type": "markdown",
   "metadata": {},
   "source": [
    "Function to observe annualized mean, volatility, and sharpe ratio"
   ]
  },
  {
   "cell_type": "code",
   "execution_count": null,
   "metadata": {},
   "outputs": [],
   "source": [
    "def performance_summary(rets, adj_factor=12):\n",
    "    # Here, we use the keyword argument adj_factor to adjust the\n",
    "    # annualization factor, which, since in this course we will\n",
    "    # mainly deal with monthly data, is set to 12 by default.\n",
    "\n",
    "    summary = {}\n",
    "    summary[\"Annualized Mean\"] = rets.mean() * adj_factor\n",
    "    summary[\"Annualized Volatility\"] = rets.std() * np.sqrt(adj_factor)\n",
    "    summary[\"Annualized Sharpe Ratio\"] = (\n",
    "        summary[\"Annualized Mean\"] / summary[\"Annualized Volatility\"]\n",
    "    )\n",
    "    return pd.DataFrame(summary, index=rets.columns)\n",
    "\n",
    "\n",
    "# Since part b asks to find the best and worst Sharpe Ratios, we can\n",
    "# use the .sort_values method to sort the DataFrame by the Sharpe Ratio.\n",
    "metrics = performance_summary(rets).sort_values(\n",
    "    \"Annualized Sharpe Ratio\", ascending=False\n",
    ")\n",
    "metrics.style.format(\"{:.2}\")"
   ]
  },
  {
   "cell_type": "code",
   "execution_count": null,
   "metadata": {},
   "outputs": [],
   "source": [
    "def tan_portfolio(mean_rets, cov_matrix):\n",
    "    \"\"\"\n",
    "    Function to calculate tangency portfolio weights. Comes from the\n",
    "    formula seen in class (Week 1).\n",
    "\n",
    "    Args:\n",
    "        mean_rets: Vector of mean returns.\n",
    "        cov_matrix: Covariance matrix of returns.\n",
    "\n",
    "    Returns:\n",
    "        Vector of tangency portfolio weights.\n",
    "    \"\"\"\n",
    "    inv_cov = np.linalg.inv(cov_matrix)\n",
    "    ones = np.ones(mean_rets.shape)\n",
    "    return (inv_cov @ mean_rets) / (ones.T @ inv_cov @ mean_rets)\n",
    "\n",
    "\n",
    "def gmv_portfolio(cov_matrix):\n",
    "    \"\"\"\n",
    "    Function to calculate the weights of the global minimum variance portfolio.\n",
    "\n",
    "    Args:\n",
    "        cov_matrix : Covariance matrix of returns.\n",
    "\n",
    "    Returns:\n",
    "        Vector of GMV portfolio weights.\n",
    "    \"\"\"\n",
    "    try:\n",
    "        cov_inv = np.linalg.inv(cov_matrix)\n",
    "    except TypeError:\n",
    "        cov_inv = np.linalg.inv(np.array(cov_matrix))\n",
    "\n",
    "    one_vector = np.ones(len(cov_matrix.index))\n",
    "    return cov_inv @ one_vector / (one_vector @ cov_inv @ (one_vector))\n",
    "\n",
    "\n",
    "def mv_portfolio(mean_rets, cov_matrix, target=None):\n",
    "    \"\"\"\n",
    "    Function to calculate the weights of the mean-variance portfolio. If\n",
    "    target is not specified, then the function will return the tangency portfolio.\n",
    "    If target is specified, then we return the MV-efficient portfolio with the target\n",
    "    return.\n",
    "\n",
    "    Args:\n",
    "        mean_rets : Vector of mean returns.\n",
    "        cov_matrix : Covariance matrix of returns.\n",
    "        target (optional):  Target mean return. Defaults to None. Note: must be adjusted for\n",
    "                            annualization the same time-frequency as the mean returns. If the\n",
    "                            mean returns are monthly, the target must be monthly as well.\n",
    "\n",
    "    Returns:\n",
    "        Vector of MV portfolio weights.\n",
    "    \"\"\"\n",
    "    w_tan = tan_portfolio(mean_rets, cov_matrix)\n",
    "\n",
    "    if target is None:\n",
    "        return w_tan\n",
    "\n",
    "    w_gmv = gmv_portfolio(cov_matrix)\n",
    "    delta = (target - mean_rets @ w_gmv) / (mean_rets @ w_tan - mean_rets @ w_gmv)\n",
    "    return delta * w_tan + (1 - delta) * w_gmv\n"
   ]
  }
 ],
 "metadata": {
  "kernelspec": {
   "display_name": "Python 3",
   "language": "python",
   "name": "python3"
  },
  "language_info": {
   "codemirror_mode": {
    "name": "ipython",
    "version": 3
   },
   "file_extension": ".py",
   "mimetype": "text/x-python",
   "name": "python",
   "nbconvert_exporter": "python",
   "pygments_lexer": "ipython3",
   "version": "3.10.9"
  },
  "orig_nbformat": 4
 },
 "nbformat": 4,
 "nbformat_minor": 2
}
